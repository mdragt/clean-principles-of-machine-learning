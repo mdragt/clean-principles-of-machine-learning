{
 "cells": [
  {
   "cell_type": "markdown",
   "metadata": {},
   "source": [
    "## Dimensionality reduction with principal components\n",
    "\n",
    "**Principal component analysis**, or **PCA**, is an alternative to regularization and straight-forward feature elimination. PCA is particularly useful for problems with very large numbers of features compared to the number of training cases. For example, when faced with a problem with many thousands of features and perhaps a few thousand cases, PCA can be a good choice to **reduce the dimensionality** of the feature space.  \n",
    "\n",
    "PCA is one of a family of transformation methods that reduce dimensionality. PCA is the focus here, since it is the most widely used of these methods. \n",
    "\n",
    "The basic idea of PCA is rather simple: Find a linear transformation of the feature space which **projects the majority of the variance** onto a few orthogonal dimensions in the transformed space. The PCA transformation maps the data values to a new coordinate system defined by the principal components. Assuming the highest variance directions, or **components**, are the most informative, low variance components can be eliminated from the space with little loss of information. \n",
    "\n",
    "The projection along which the greatest variance occurs is called the **first principal component**. The next projection, orthogonal to the first, with the greatest variance is called the **second principal component**. Subsequent components are all mutually orthogonal with decreasing variance along the projected direction.  \n",
    "\n",
    "Widely used PCA algorithms compute the components sequentially, starting with the first principal component. This means that it is computationally efficient to compute the first several components from a very large number of features. Thus, PCA can make problems with very large numbers of features computationally tractable. \n",
    "\n",
    "****\n",
    "**Note:** It may help your understanding to realize that principal components are a scaled version of the **eigenvectors** of the feature matrix. The scale for each dimensions is given by the **eigenvalues**. The eigenvalues are the fraction of the variance explained by the components. \n",
    "****"
   ]
  },
  {
   "cell_type": "markdown",
   "metadata": {},
   "source": [
    "## A simple example\n",
    "\n",
    "To cement the concepts of PCA you will now work through a simple example. This example is restricted to 2-d data so that the results are easy to visualize. \n",
    "\n",
    "As a first step, execute the code in cell below to load the packages required for the rest of this notebook.\n",
    "\n",
    "> **Note:** If you are running in Azure Notebooks, make sure that you run the code in the `setup.ipynb` notebook at the start of you session to ensure your environment is correctly configured. "
   ]
  },
  {
   "cell_type": "code",
   "execution_count": 1,
   "metadata": {
    "scrolled": true
   },
   "outputs": [
    {
     "name": "stderr",
     "output_type": "stream",
     "text": [
      "\n",
      "Attaching package: 'dplyr'\n",
      "\n",
      "The following objects are masked from 'package:stats':\n",
      "\n",
      "    filter, lag\n",
      "\n",
      "The following objects are masked from 'package:base':\n",
      "\n",
      "    intersect, setdiff, setequal, union\n",
      "\n",
      "\n",
      "Attaching package: 'MASS'\n",
      "\n",
      "The following object is masked from 'package:dplyr':\n",
      "\n",
      "    select\n",
      "\n",
      "Loading required package: gplots\n",
      "\n",
      "Attaching package: 'gplots'\n",
      "\n",
      "The following object is masked from 'package:stats':\n",
      "\n",
      "    lowess\n",
      "\n",
      "Type 'citation(\"pROC\")' for a citation.\n",
      "\n",
      "Attaching package: 'pROC'\n",
      "\n",
      "The following objects are masked from 'package:stats':\n",
      "\n",
      "    cov, smooth, var\n",
      "\n"
     ]
    }
   ],
   "source": [
    "## Import packages\n",
    "library(ggplot2)\n",
    "library(repr)\n",
    "library(dplyr)\n",
    "library(caret)\n",
    "library(MASS)\n",
    "library(ROCR)\n",
    "library(pROC)\n",
    "\n",
    "options(repr.plot.width=4, repr.plot.height=4) # Set the initial plot area dimensions"
   ]
  },
  {
   "cell_type": "markdown",
   "metadata": {},
   "source": [
    "The code in the cell below simulates data from a bivariate Normal distribution. The distribution is deliberately centered on $\\{ 0,0 \\}$ and with unit variance on each dimension. There is considerable covariance between the two dimensions leading to a covariance matrix:\n",
    "\n",
    "$$cov(X) =  \\begin{bmatrix}\n",
    "  1.0 & 0.6 \\\\\n",
    "  0.6 & 1.0\n",
    " \\end{bmatrix}$$\n",
    "\n",
    "Given the covariance matrix 100 draws from this distribution are computed using the `mvrnorm` function from the R MASS package. Execute this code:"
   ]
  },
  {
   "cell_type": "code",
   "execution_count": 2,
   "metadata": {},
   "outputs": [
    {
     "name": "stdout",
     "output_type": "stream",
     "text": [
      "[1] 100   2\n"
     ]
    },
    {
     "data": {
      "text/html": [
       "<table>\n",
       "<thead><tr><th scope=col>x</th><th scope=col>y</th></tr></thead>\n",
       "<tbody>\n",
       "\t<tr><td>-1.0289674 </td><td>-1.44872226</td></tr>\n",
       "\t<tr><td> 0.5476797 </td><td>-0.47912514</td></tr>\n",
       "\t<tr><td>-1.1761978 </td><td>-0.18875203</td></tr>\n",
       "\t<tr><td> 0.3192489 </td><td> 0.06053589</td></tr>\n",
       "\t<tr><td> 1.3990650 </td><td> 1.15101479</td></tr>\n",
       "\t<tr><td> 1.0575449 </td><td> 0.27422109</td></tr>\n",
       "</tbody>\n",
       "</table>\n"
      ],
      "text/latex": [
       "\\begin{tabular}{r|ll}\n",
       " x & y\\\\\n",
       "\\hline\n",
       "\t -1.0289674  & -1.44872226\\\\\n",
       "\t  0.5476797  & -0.47912514\\\\\n",
       "\t -1.1761978  & -0.18875203\\\\\n",
       "\t  0.3192489  &  0.06053589\\\\\n",
       "\t  1.3990650  &  1.15101479\\\\\n",
       "\t  1.0575449  &  0.27422109\\\\\n",
       "\\end{tabular}\n"
      ],
      "text/markdown": [
       "\n",
       "x | y | \n",
       "|---|---|---|---|---|---|\n",
       "| -1.0289674  | -1.44872226 | \n",
       "|  0.5476797  | -0.47912514 | \n",
       "| -1.1761978  | -0.18875203 | \n",
       "|  0.3192489  |  0.06053589 | \n",
       "|  1.3990650  |  1.15101479 | \n",
       "|  1.0575449  |  0.27422109 | \n",
       "\n",
       "\n"
      ],
      "text/plain": [
       "  x          y          \n",
       "1 -1.0289674 -1.44872226\n",
       "2  0.5476797 -0.47912514\n",
       "3 -1.1761978 -0.18875203\n",
       "4  0.3192489  0.06053589\n",
       "5  1.3990650  1.15101479\n",
       "6  1.0575449  0.27422109"
      ]
     },
     "metadata": {},
     "output_type": "display_data"
    }
   ],
   "source": [
    "set.seed(124)\n",
    "cov = matrix(c(1.0, 0.6, 0.6, 1.0), nrow =2, ncol = 2)\n",
    "mean = c(0.0, 0.0)\n",
    "\n",
    "sample = data.frame(mvrnorm(n = 100, mu = mean, Sigma = cov))\n",
    "names(sample) = c('x','y')\n",
    "print(dim(sample))\n",
    "head(sample)"
   ]
  },
  {
   "cell_type": "markdown",
   "metadata": {},
   "source": [
    "To get a feel for this data, execute the code in the cell below to display a plot and examine the result. "
   ]
  },
  {
   "cell_type": "code",
   "execution_count": 3,
   "metadata": {
    "scrolled": false
   },
   "outputs": [
    {
     "data": {},
     "metadata": {},
     "output_type": "display_data"
    },
    {
     "data": {
      "image/png": "[encoded data removed]",
      "text/plain": [
       "plot without title"
      ]
     },
     "metadata": {},
     "output_type": "display_data"
    }
   ],
   "source": [
    "ggplot(sample, aes(x,y)) + geom_point()"
   ]
  },
  {
   "cell_type": "markdown",
   "metadata": {},
   "source": [
    "You can see that the data have a roughly elliptical pattern. The correlation between the two dimensions is also visible. \n",
    "\n",
    "With the simulated data set created, it is time to compute the PCA model. The code in the cell below computes the principle component model using the R `prcomp` function. This function contains a list with multiple elements including the eigenvalues. The eigenvalues can be scaled to compute the variance explained:\n",
    "\n",
    "$$VE(X) = \\frac{Var_{X-component}(X)}{Var_{X-total}(X)}$$\n",
    "\n",
    "Notice that by construction:\n",
    "\n",
    "$$VE(X) = \\sum_{i=1}^N VE_i(X) = 1.0$$\n",
    "\n",
    "In other words, the sum of the variance explained for each component must add to the total variance or 1.0 for standardized data. \n",
    "\n",
    "Execute this code and examine the result."
   ]
  },
  {
   "cell_type": "code",
   "execution_count": 4,
   "metadata": {
    "scrolled": true
   },
   "outputs": [
    {
     "data": {
      "text/plain": [
       "Standard deviations:\n",
       "[1] 1.1197401 0.5688762\n",
       "\n",
       "Rotation:\n",
       "        PC1        PC2\n",
       "x 0.6595985 -0.7516182\n",
       "y 0.7516182  0.6595985"
      ]
     },
     "metadata": {},
     "output_type": "display_data"
    }
   ],
   "source": [
    "pca_mod = prcomp(sample)\n",
    "pca_mod"
   ]
  },
  {
   "cell_type": "markdown",
   "metadata": {},
   "source": [
    "Notice that the standard deviation of the first component is several times larger than for the second component. This is exactly the desired result indicating the first principal component explains the majority of the variance of the sample data. Mathematically the components are the eigenvectors and the standard deviations are  the eigenvalues of the data covariance matrix. \n",
    "\n",
    "The code in the cell below computes and prints the scaled magnitude of the components. These scaled components must add to 1.0. Execute this code:  "
   ]
  },
  {
   "cell_type": "code",
   "execution_count": 5,
   "metadata": {},
   "outputs": [
    {
     "data": {
      "text/html": [
       "<ol class=list-inline>\n",
       "\t<li>0.794844456022692</li>\n",
       "\t<li>0.205155543977308</li>\n",
       "</ol>\n"
      ],
      "text/latex": [
       "\\begin{enumerate*}\n",
       "\\item 0.794844456022692\n",
       "\\item 0.205155543977308\n",
       "\\end{enumerate*}\n"
      ],
      "text/markdown": [
       "1. 0.794844456022692\n",
       "2. 0.205155543977308\n",
       "\n",
       "\n"
      ],
      "text/plain": [
       "[1] 0.7948445 0.2051555"
      ]
     },
     "metadata": {},
     "output_type": "display_data"
    }
   ],
   "source": [
    "sdev_scaled = pca_mod$sdev**2/sum(pca_mod$sdev**2)\n",
    "sdev_scaled"
   ]
  },
  {
   "cell_type": "markdown",
   "metadata": {},
   "source": [
    "The components are scaled by element wise multiplication with percent variance explained. Execute this code and examine the results. "
   ]
  },
  {
   "cell_type": "code",
   "execution_count": 6,
   "metadata": {},
   "outputs": [
    {
     "name": "stdout",
     "output_type": "stream",
     "text": [
      "'data.frame':\t2 obs. of  2 variables:\n",
      " $ PC1: num  0.524 0.597\n",
      " $ PC2: num  -0.154 0.135\n"
     ]
    }
   ],
   "source": [
    "scaled_pca = data.frame(matrix(c(0,0,0,0), nrow = 2, ncol = 2))\n",
    "for(i in 1:2){\n",
    "    scaled_pca[i,] = pca_mod$rotation[i,] * sdev_scaled\n",
    "}\n",
    "names(scaled_pca) = c('PC1','PC2')\n",
    "str(scaled_pca)"
   ]
  },
  {
   "cell_type": "markdown",
   "metadata": {},
   "source": [
    "The two component vectors have their origins at $[ 0,0 \\}$, and are quite different magnitude, and are pointing in different directions. To better understand how the projections of the components relate to the data, execute the code to plot the data along with the principal components. Execute this code: "
   ]
  },
  {
   "cell_type": "code",
   "execution_count": 7,
   "metadata": {},
   "outputs": [
    {
     "data": {},
     "metadata": {},
     "output_type": "display_data"
    },
    {
     "data": {
      "image/png": "[encoded data removed]",
      "text/plain": [
       "plot without title"
      ]
     },
     "metadata": {},
     "output_type": "display_data"
    }
   ],
   "source": [
    "## Find the slopes\n",
    "s1 = data.frame(x = c(0.0, scaled_pca$PC1[1]), y = c(0.0, scaled_pca$PC1[2]))\n",
    "s2 = data.frame(x = c(0.0, scaled_pca$PC2[1]), y = c(0.0, scaled_pca$PC2[2]))\n",
    "\n",
    "## Plot the data with the PCs\n",
    "ggplot(sample, aes(x,y)) + geom_point() +\n",
    "        geom_line(data = s1, aes(x,y), color = 'red', size = 1) +\n",
    "        geom_line(data = s2, aes(x,y), color = 'red', size = 1)"
   ]
  },
  {
   "cell_type": "markdown",
   "metadata": {},
   "source": [
    "Notice the the first principal component (the long red line) is along the direction of greatest variance of the data. This is as expected. The short red line is along the direction of the second principal component. The lengths of these lines are the variance in the directions of the projection. \n",
    "\n",
    "The ultimate goal of PCA is to transform data to a coordinate system with the highest variance directions along the axes. The `transform` function in the cell below computes the projections of the data onto the new coordinate frames using matrix multiplication. Execute this code to apply the transform and plot the result: "
   ]
  },
  {
   "cell_type": "code",
   "execution_count": 8,
   "metadata": {
    "scrolled": false
   },
   "outputs": [
    {
     "data": {},
     "metadata": {},
     "output_type": "display_data"
    },
    {
     "data": {
      "image/png": "[encoded data removed]",
      "text/plain": [
       "plot without title"
      ]
     },
     "metadata": {},
     "output_type": "display_data"
    }
   ],
   "source": [
    "pca_transform = function(df, pca, ncomps){\n",
    "    data.frame(as.matrix(df) %*% as.matrix(pca)[,1:ncomps])\n",
    "}\n",
    "\n",
    "trans_sample = pca_transform(sample, scaled_pca, 2)\n",
    "names(trans_sample) = c('x', 'y')\n",
    "ggplot(trans_sample, aes(x,y)) + geom_point()"
   ]
  },
  {
   "cell_type": "markdown",
   "metadata": {},
   "source": [
    "Notice that the scale along these two coordinates are quite different. The first principal component is along the horizontal axis. The range of values on this direction is in the range of about $\\{ -2.5,2.5 \\}$. The range of values on the vertical axis or second principal component are only about $\\{ -0.2, 0.3 \\}$. It is clear that most of the variance is along the direction of the fist principal component. "
   ]
  },
  {
   "cell_type": "markdown",
   "metadata": {},
   "source": [
    "## Load Features and Labels\n",
    "\n",
    "Keeping the foregoing simple example in mind, it is time to apply PCA to some real data. \n",
    "\n",
    "The code in the cell below loads the dataset which has the following preprocessing:\n",
    "1. Cleaning missing values.\n",
    "2. Aggregating categories of certain categorical variables. \n",
    "\n",
    "Execute the code in the cell below to load the dataset: "
   ]
  },
  {
   "cell_type": "code",
   "execution_count": 9,
   "metadata": {},
   "outputs": [
    {
     "data": {
      "text/html": [
       "<ol class=list-inline>\n",
       "\t<li>1000</li>\n",
       "\t<li>21</li>\n",
       "</ol>\n"
      ],
      "text/latex": [
       "\\begin{enumerate*}\n",
       "\\item 1000\n",
       "\\item 21\n",
       "\\end{enumerate*}\n"
      ],
      "text/markdown": [
       "1. 1000\n",
       "2. 21\n",
       "\n",
       "\n"
      ],
      "text/plain": [
       "[1] 1000   21"
      ]
     },
     "metadata": {},
     "output_type": "display_data"
    },
    {
     "name": "stdout",
     "output_type": "stream",
     "text": [
      "'data.frame':\t1000 obs. of  21 variables:\n",
      " $ checking_account_status : Factor w/ 4 levels \"< 0 DM\",\"> 200 DM or salary assignment\",..: 1 3 4 1 1 4 4 3 4 3 ...\n",
      " $ loan_duration_mo        : int  6 48 12 42 24 36 24 36 12 30 ...\n",
      " $ credit_history          : Factor w/ 5 levels \"all loans at bank paid\",..: 2 3 2 3 5 3 3 3 3 2 ...\n",
      " $ purpose                 : Factor w/ 10 levels \"business\",\"car (new)\",..: 8 8 5 6 2 5 6 3 8 2 ...\n",
      " $ loan_amount             : int  1169 5951 2096 7882 4870 9055 2835 6948 3059 5234 ...\n",
      " $ savings_account_balance : Factor w/ 5 levels \"< 100 DM\",\">= 1000 DM\",..: 5 1 1 1 1 5 4 1 2 1 ...\n",
      " $ time_employed_yrs       : Factor w/ 5 levels \"< 1 year\",\">= 7 years\",..: 2 3 4 4 3 3 2 3 4 5 ...\n",
      " $ payment_pcnt_income     : int  4 2 2 2 3 2 3 2 2 4 ...\n",
      " $ gender_status           : Factor w/ 4 levels \"female-divorced/separated/married\",..: 4 1 4 4 4 4 4 4 2 3 ...\n",
      " $ other_signators         : Factor w/ 3 levels \"co-applicant\",..: 3 3 3 2 3 3 3 3 3 3 ...\n",
      " $ time_in_residence       : int  4 2 3 4 4 4 4 2 4 2 ...\n",
      " $ property                : Factor w/ 4 levels \"building society savings/life insurance\",..: 3 3 3 1 4 4 1 2 3 2 ...\n",
      " $ age_yrs                 : int  67 22 49 45 53 35 53 35 61 28 ...\n",
      " $ other_credit_outstanding: Factor w/ 3 levels \"bank\",\"none\",..: 2 2 2 2 2 2 2 2 2 2 ...\n",
      " $ home_ownership          : Factor w/ 3 levels \"for free\",\"own\",..: 2 2 2 1 1 1 2 3 2 2 ...\n",
      " $ number_loans            : int  2 1 1 1 2 1 1 1 1 2 ...\n",
      " $ job_category            : Factor w/ 4 levels \"highly skilled\",..: 2 2 4 2 2 4 2 1 4 1 ...\n",
      " $ dependents              : int  1 1 2 2 2 2 1 1 1 1 ...\n",
      " $ telephone               : Factor w/ 2 levels \"none\",\"yes\": 2 1 1 1 1 2 1 2 1 1 ...\n",
      " $ foreign_worker          : Factor w/ 2 levels \"no\",\"yes\": 2 2 2 2 2 2 2 2 2 2 ...\n",
      " $ bad_credit              : Factor w/ 2 levels \"bad\",\"good\": 2 1 2 2 1 2 2 2 2 1 ...\n"
     ]
    }
   ],
   "source": [
    "credit = read.csv('German_Credit_Preped.csv', header = TRUE)\n",
    "credit[,'Customer_ID'] = NULL\n",
    "credit$bad_credit <- ifelse(credit$bad_credit == 1, 'bad', 'good')\n",
    "credit$bad_credit <- factor(credit$bad_credit, levels = c('bad', 'good'))\n",
    "dim(credit)\n",
    "str(credit)"
   ]
  },
  {
   "cell_type": "markdown",
   "metadata": {},
   "source": [
    "There are 20 features in this data set. \n",
    "\n",
    "The prcomp function can only work with numeric matrices. Therefore, the categorical features are dummy variable encoded. Executed the code in the cell below to compute the encoding for the dummy variables. "
   ]
  },
  {
   "cell_type": "code",
   "execution_count": 10,
   "metadata": {},
   "outputs": [],
   "source": [
    "dummies = dummyVars(bad_credit ~ ., data = credit)"
   ]
  },
  {
   "cell_type": "markdown",
   "metadata": {},
   "source": [
    "The code in the cell below to split the data set into test and training subsets and dummy variable encode the categorical features. The Caret `createDataPartion` function is used  to randomly split the dataset. The `perdict` method dummy variable encodes the categorical features. Execute this code and examine the result. "
   ]
  },
  {
   "cell_type": "code",
   "execution_count": 11,
   "metadata": {},
   "outputs": [
    {
     "name": "stderr",
     "output_type": "stream",
     "text": [
      "Warning message in model.frame.default(Terms, newdata, na.action = na.action, xlev = object$lvls):\n",
      "\"variable 'bad_credit' is not a factor\""
     ]
    },
    {
     "data": {
      "text/html": [
       "<ol class=list-inline>\n",
       "\t<li>700</li>\n",
       "\t<li>61</li>\n",
       "</ol>\n"
      ],
      "text/latex": [
       "\\begin{enumerate*}\n",
       "\\item 700\n",
       "\\item 61\n",
       "\\end{enumerate*}\n"
      ],
      "text/markdown": [
       "1. 700\n",
       "2. 61\n",
       "\n",
       "\n"
      ],
      "text/plain": [
       "[1] 700  61"
      ]
     },
     "metadata": {},
     "output_type": "display_data"
    },
    {
     "name": "stderr",
     "output_type": "stream",
     "text": [
      "Warning message in model.frame.default(Terms, newdata, na.action = na.action, xlev = object$lvls):\n",
      "\"variable 'bad_credit' is not a factor\""
     ]
    },
    {
     "data": {
      "text/html": [
       "<ol class=list-inline>\n",
       "\t<li>300</li>\n",
       "\t<li>61</li>\n",
       "</ol>\n"
      ],
      "text/latex": [
       "\\begin{enumerate*}\n",
       "\\item 300\n",
       "\\item 61\n",
       "\\end{enumerate*}\n"
      ],
      "text/markdown": [
       "1. 300\n",
       "2. 61\n",
       "\n",
       "\n"
      ],
      "text/plain": [
       "[1] 300  61"
      ]
     },
     "metadata": {},
     "output_type": "display_data"
    },
    {
     "data": {
      "text/html": [
       "<table>\n",
       "<thead><tr><th></th><th scope=col>checking_account_status.&lt; 0 DM</th><th scope=col>checking_account_status.&gt; 200 DM or salary assignment</th><th scope=col>checking_account_status.0 - 200 DM</th><th scope=col>checking_account_status.none</th><th scope=col>loan_duration_mo</th><th scope=col>credit_history.all loans at bank paid</th><th scope=col>credit_history.critical account - other non-bank loans</th><th scope=col>credit_history.current loans paid</th><th scope=col>credit_history.no credit - paid</th><th scope=col>credit_history.past payment delays</th><th scope=col>...</th><th scope=col>number_loans</th><th scope=col>job_category.highly skilled</th><th scope=col>job_category.skilled</th><th scope=col>job_category.unemployed-unskilled-non-resident</th><th scope=col>job_category.unskilled-resident</th><th scope=col>dependents</th><th scope=col>telephone.none</th><th scope=col>telephone.yes</th><th scope=col>foreign_worker.no</th><th scope=col>foreign_worker.yes</th></tr></thead>\n",
       "<tbody>\n",
       "\t<tr><th scope=row>1</th><td>1  </td><td>0  </td><td>0  </td><td>0  </td><td> 6 </td><td>0  </td><td>1  </td><td>0  </td><td>0  </td><td>0  </td><td>...</td><td>2  </td><td>0  </td><td>1  </td><td>0  </td><td>0  </td><td>1  </td><td>0  </td><td>1  </td><td>0  </td><td>1  </td></tr>\n",
       "\t<tr><th scope=row>3</th><td>0  </td><td>0  </td><td>0  </td><td>1  </td><td>12 </td><td>0  </td><td>1  </td><td>0  </td><td>0  </td><td>0  </td><td>...</td><td>1  </td><td>0  </td><td>0  </td><td>0  </td><td>1  </td><td>2  </td><td>1  </td><td>0  </td><td>0  </td><td>1  </td></tr>\n",
       "\t<tr><th scope=row>4</th><td>1  </td><td>0  </td><td>0  </td><td>0  </td><td>42 </td><td>0  </td><td>0  </td><td>1  </td><td>0  </td><td>0  </td><td>...</td><td>1  </td><td>0  </td><td>1  </td><td>0  </td><td>0  </td><td>2  </td><td>1  </td><td>0  </td><td>0  </td><td>1  </td></tr>\n",
       "\t<tr><th scope=row>5</th><td>1  </td><td>0  </td><td>0  </td><td>0  </td><td>24 </td><td>0  </td><td>0  </td><td>0  </td><td>0  </td><td>1  </td><td>...</td><td>2  </td><td>0  </td><td>1  </td><td>0  </td><td>0  </td><td>2  </td><td>1  </td><td>0  </td><td>0  </td><td>1  </td></tr>\n",
       "\t<tr><th scope=row>7</th><td>0  </td><td>0  </td><td>0  </td><td>1  </td><td>24 </td><td>0  </td><td>0  </td><td>1  </td><td>0  </td><td>0  </td><td>...</td><td>1  </td><td>0  </td><td>1  </td><td>0  </td><td>0  </td><td>1  </td><td>1  </td><td>0  </td><td>0  </td><td>1  </td></tr>\n",
       "\t<tr><th scope=row>8</th><td>0  </td><td>0  </td><td>1  </td><td>0  </td><td>36 </td><td>0  </td><td>0  </td><td>1  </td><td>0  </td><td>0  </td><td>...</td><td>1  </td><td>1  </td><td>0  </td><td>0  </td><td>0  </td><td>1  </td><td>0  </td><td>1  </td><td>0  </td><td>1  </td></tr>\n",
       "</tbody>\n",
       "</table>\n"
      ],
      "text/latex": [
       "\\begin{tabular}{r|lllllllllllllllllllllllllllllllllllllllllllllllllllllllllllll}\n",
       "  & checking\\_account\\_status.< 0 DM & checking\\_account\\_status.> 200 DM or salary assignment & checking\\_account\\_status.0 - 200 DM & checking\\_account\\_status.none & loan\\_duration\\_mo & credit\\_history.all loans at bank paid & credit\\_history.critical account - other non-bank loans & credit\\_history.current loans paid & credit\\_history.no credit - paid & credit\\_history.past payment delays & ... & number\\_loans & job\\_category.highly skilled & job\\_category.skilled & job\\_category.unemployed-unskilled-non-resident & job\\_category.unskilled-resident & dependents & telephone.none & telephone.yes & foreign\\_worker.no & foreign\\_worker.yes\\\\\n",
       "\\hline\n",
       "\t1 & 1   & 0   & 0   & 0   &  6  & 0   & 1   & 0   & 0   & 0   & ... & 2   & 0   & 1   & 0   & 0   & 1   & 0   & 1   & 0   & 1  \\\\\n",
       "\t3 & 0   & 0   & 0   & 1   & 12  & 0   & 1   & 0   & 0   & 0   & ... & 1   & 0   & 0   & 0   & 1   & 2   & 1   & 0   & 0   & 1  \\\\\n",
       "\t4 & 1   & 0   & 0   & 0   & 42  & 0   & 0   & 1   & 0   & 0   & ... & 1   & 0   & 1   & 0   & 0   & 2   & 1   & 0   & 0   & 1  \\\\\n",
       "\t5 & 1   & 0   & 0   & 0   & 24  & 0   & 0   & 0   & 0   & 1   & ... & 2   & 0   & 1   & 0   & 0   & 2   & 1   & 0   & 0   & 1  \\\\\n",
       "\t7 & 0   & 0   & 0   & 1   & 24  & 0   & 0   & 1   & 0   & 0   & ... & 1   & 0   & 1   & 0   & 0   & 1   & 1   & 0   & 0   & 1  \\\\\n",
       "\t8 & 0   & 0   & 1   & 0   & 36  & 0   & 0   & 1   & 0   & 0   & ... & 1   & 1   & 0   & 0   & 0   & 1   & 0   & 1   & 0   & 1  \\\\\n",
       "\\end{tabular}\n"
      ],
      "text/markdown": [
       "\n",
       "| <!--/--> | checking_account_status.< 0 DM | checking_account_status.> 200 DM or salary assignment | checking_account_status.0 - 200 DM | checking_account_status.none | loan_duration_mo | credit_history.all loans at bank paid | credit_history.critical account - other non-bank loans | credit_history.current loans paid | credit_history.no credit - paid | credit_history.past payment delays | ... | number_loans | job_category.highly skilled | job_category.skilled | job_category.unemployed-unskilled-non-resident | job_category.unskilled-resident | dependents | telephone.none | telephone.yes | foreign_worker.no | foreign_worker.yes | \n",
       "|---|---|---|---|---|---|\n",
       "| 1 | 1   | 0   | 0   | 0   |  6  | 0   | 1   | 0   | 0   | 0   | ... | 2   | 0   | 1   | 0   | 0   | 1   | 0   | 1   | 0   | 1   | \n",
       "| 3 | 0   | 0   | 0   | 1   | 12  | 0   | 1   | 0   | 0   | 0   | ... | 1   | 0   | 0   | 0   | 1   | 2   | 1   | 0   | 0   | 1   | \n",
       "| 4 | 1   | 0   | 0   | 0   | 42  | 0   | 0   | 1   | 0   | 0   | ... | 1   | 0   | 1   | 0   | 0   | 2   | 1   | 0   | 0   | 1   | \n",
       "| 5 | 1   | 0   | 0   | 0   | 24  | 0   | 0   | 0   | 0   | 1   | ... | 2   | 0   | 1   | 0   | 0   | 2   | 1   | 0   | 0   | 1   | \n",
       "| 7 | 0   | 0   | 0   | 1   | 24  | 0   | 0   | 1   | 0   | 0   | ... | 1   | 0   | 1   | 0   | 0   | 1   | 1   | 0   | 0   | 1   | \n",
       "| 8 | 0   | 0   | 1   | 0   | 36  | 0   | 0   | 1   | 0   | 0   | ... | 1   | 1   | 0   | 0   | 0   | 1   | 0   | 1   | 0   | 1   | \n",
       "\n",
       "\n"
      ],
      "text/plain": [
       "  checking_account_status.< 0 DM\n",
       "1 1                             \n",
       "3 0                             \n",
       "4 1                             \n",
       "5 1                             \n",
       "7 0                             \n",
       "8 0                             \n",
       "  checking_account_status.> 200 DM or salary assignment\n",
       "1 0                                                    \n",
       "3 0                                                    \n",
       "4 0                                                    \n",
       "5 0                                                    \n",
       "7 0                                                    \n",
       "8 0                                                    \n",
       "  checking_account_status.0 - 200 DM checking_account_status.none\n",
       "1 0                                  0                           \n",
       "3 0                                  1                           \n",
       "4 0                                  0                           \n",
       "5 0                                  0                           \n",
       "7 0                                  1                           \n",
       "8 1                                  0                           \n",
       "  loan_duration_mo credit_history.all loans at bank paid\n",
       "1  6               0                                    \n",
       "3 12               0                                    \n",
       "4 42               0                                    \n",
       "5 24               0                                    \n",
       "7 24               0                                    \n",
       "8 36               0                                    \n",
       "  credit_history.critical account - other non-bank loans\n",
       "1 1                                                     \n",
       "3 1                                                     \n",
       "4 0                                                     \n",
       "5 0                                                     \n",
       "7 0                                                     \n",
       "8 0                                                     \n",
       "  credit_history.current loans paid credit_history.no credit - paid\n",
       "1 0                                 0                              \n",
       "3 0                                 0                              \n",
       "4 1                                 0                              \n",
       "5 0                                 0                              \n",
       "7 1                                 0                              \n",
       "8 1                                 0                              \n",
       "  credit_history.past payment delays ... number_loans\n",
       "1 0                                  ... 2           \n",
       "3 0                                  ... 1           \n",
       "4 0                                  ... 1           \n",
       "5 1                                  ... 2           \n",
       "7 0                                  ... 1           \n",
       "8 0                                  ... 1           \n",
       "  job_category.highly skilled job_category.skilled\n",
       "1 0                           1                   \n",
       "3 0                           0                   \n",
       "4 0                           1                   \n",
       "5 0                           1                   \n",
       "7 0                           1                   \n",
       "8 1                           0                   \n",
       "  job_category.unemployed-unskilled-non-resident\n",
       "1 0                                             \n",
       "3 0                                             \n",
       "4 0                                             \n",
       "5 0                                             \n",
       "7 0                                             \n",
       "8 0                                             \n",
       "  job_category.unskilled-resident dependents telephone.none telephone.yes\n",
       "1 0                               1          0              1            \n",
       "3 1                               2          1              0            \n",
       "4 0                               2          1              0            \n",
       "5 0                               2          1              0            \n",
       "7 0                               1          1              0            \n",
       "8 0                               1          0              1            \n",
       "  foreign_worker.no foreign_worker.yes\n",
       "1 0                 1                 \n",
       "3 0                 1                 \n",
       "4 0                 1                 \n",
       "5 0                 1                 \n",
       "7 0                 1                 \n",
       "8 0                 1                 "
      ]
     },
     "metadata": {},
     "output_type": "display_data"
    }
   ],
   "source": [
    "set.seed(1955)\n",
    "## Randomly sample cases to create independent training and test data\n",
    "partition = createDataPartition(credit[,'bad_credit'], times = 1, p = 0.7, list = FALSE)\n",
    "training = credit[partition,] # Create the training feature sample\n",
    "training_label = credit[partition, 'bad_credit'] # Subset training labels\n",
    "training = predict(dummies, newdata = training) # transform categorical to dummy vars\n",
    "dim(training)\n",
    "test = credit[-partition,] # Create the test sample\n",
    "test_label = credit[-partition, 'bad_credit'] # Subset training labels\n",
    "test = predict(dummies, newdata = test) # transform categorical to dummy vars\n",
    "dim(test)\n",
    "head(training)"
   ]
  },
  {
   "cell_type": "markdown",
   "metadata": {},
   "source": [
    "Before preforming PCA all features must be zero mean and unit variance. Failure to do so will result in biased computation of the components and scales. The `preProcess` function from Caret is used to compute scaling of the training data. The same scaling is applied to the test data. Execute the code in the cell below to scale the features. "
   ]
  },
  {
   "cell_type": "code",
   "execution_count": 12,
   "metadata": {},
   "outputs": [
    {
     "data": {
      "text/html": [
       "<table>\n",
       "<thead><tr><th></th><th scope=col>loan_duration_mo</th><th scope=col>loan_amount</th><th scope=col>payment_pcnt_income</th><th scope=col>age_yrs</th></tr></thead>\n",
       "<tbody>\n",
       "\t<tr><th scope=row>1</th><td>-1.2111310 </td><td>-0.7137211 </td><td> 0.91818241</td><td> 2.6286850 </td></tr>\n",
       "\t<tr><th scope=row>3</th><td>-0.7100721 </td><td>-0.3883552 </td><td>-0.88723244</td><td> 1.0922267 </td></tr>\n",
       "\t<tr><th scope=row>4</th><td> 1.7952226 </td><td> 1.6424615 </td><td>-0.88723244</td><td> 0.7507916 </td></tr>\n",
       "\t<tr><th scope=row>5</th><td> 0.2920458 </td><td> 0.5852856 </td><td> 0.01547498</td><td> 1.4336619 </td></tr>\n",
       "\t<tr><th scope=row>7</th><td> 0.2920458 </td><td>-0.1289751 </td><td> 0.01547498</td><td> 1.4336619 </td></tr>\n",
       "\t<tr><th scope=row>8</th><td> 1.2941637 </td><td> 1.3146387 </td><td>-0.88723244</td><td>-0.1027964 </td></tr>\n",
       "</tbody>\n",
       "</table>\n"
      ],
      "text/latex": [
       "\\begin{tabular}{r|llll}\n",
       "  & loan\\_duration\\_mo & loan\\_amount & payment\\_pcnt\\_income & age\\_yrs\\\\\n",
       "\\hline\n",
       "\t1 & -1.2111310  & -0.7137211  &  0.91818241 &  2.6286850 \\\\\n",
       "\t3 & -0.7100721  & -0.3883552  & -0.88723244 &  1.0922267 \\\\\n",
       "\t4 &  1.7952226  &  1.6424615  & -0.88723244 &  0.7507916 \\\\\n",
       "\t5 &  0.2920458  &  0.5852856  &  0.01547498 &  1.4336619 \\\\\n",
       "\t7 &  0.2920458  & -0.1289751  &  0.01547498 &  1.4336619 \\\\\n",
       "\t8 &  1.2941637  &  1.3146387  & -0.88723244 & -0.1027964 \\\\\n",
       "\\end{tabular}\n"
      ],
      "text/markdown": [
       "\n",
       "| <!--/--> | loan_duration_mo | loan_amount | payment_pcnt_income | age_yrs | \n",
       "|---|---|---|---|---|---|\n",
       "| 1 | -1.2111310  | -0.7137211  |  0.91818241 |  2.6286850  | \n",
       "| 3 | -0.7100721  | -0.3883552  | -0.88723244 |  1.0922267  | \n",
       "| 4 |  1.7952226  |  1.6424615  | -0.88723244 |  0.7507916  | \n",
       "| 5 |  0.2920458  |  0.5852856  |  0.01547498 |  1.4336619  | \n",
       "| 7 |  0.2920458  | -0.1289751  |  0.01547498 |  1.4336619  | \n",
       "| 8 |  1.2941637  |  1.3146387  | -0.88723244 | -0.1027964  | \n",
       "\n",
       "\n"
      ],
      "text/plain": [
       "  loan_duration_mo loan_amount payment_pcnt_income age_yrs   \n",
       "1 -1.2111310       -0.7137211   0.91818241          2.6286850\n",
       "3 -0.7100721       -0.3883552  -0.88723244          1.0922267\n",
       "4  1.7952226        1.6424615  -0.88723244          0.7507916\n",
       "5  0.2920458        0.5852856   0.01547498          1.4336619\n",
       "7  0.2920458       -0.1289751   0.01547498          1.4336619\n",
       "8  1.2941637        1.3146387  -0.88723244         -0.1027964"
      ]
     },
     "metadata": {},
     "output_type": "display_data"
    }
   ],
   "source": [
    "num_cols = c('loan_duration_mo', 'loan_amount', 'payment_pcnt_income', 'age_yrs')\n",
    "preProcValues <- preProcess(training[,num_cols], method = c(\"center\", \"scale\"))\n",
    "\n",
    "training[,num_cols] = predict(preProcValues, training[,num_cols])\n",
    "test[,num_cols] = predict(preProcValues, test[,num_cols])\n",
    "head(training[,num_cols])"
   ]
  },
  {
   "cell_type": "markdown",
   "metadata": {},
   "source": [
    "## Compute principal components\n",
    "\n",
    "The code in the cell below computes the principal components for the training feature subset. Execute this code:"
   ]
  },
  {
   "cell_type": "code",
   "execution_count": 13,
   "metadata": {},
   "outputs": [],
   "source": [
    "pca_credit = prcomp(training)"
   ]
  },
  {
   "cell_type": "markdown",
   "metadata": {},
   "source": [
    "Execute the code in the cell below to print the variance explained for each component and the sum of the variance explained:"
   ]
  },
  {
   "cell_type": "code",
   "execution_count": 14,
   "metadata": {
    "scrolled": true
   },
   "outputs": [
    {
     "data": {
      "text/html": [
       "<ol class=list-inline>\n",
       "\t<li>0.149730944157874</li>\n",
       "\t<li>0.123636588967734</li>\n",
       "\t<li>0.0865736367434875</li>\n",
       "\t<li>0.074309827697869</li>\n",
       "\t<li>0.0465452393801124</li>\n",
       "\t<li>0.0396904247725725</li>\n",
       "\t<li>0.0337693029734763</li>\n",
       "\t<li>0.0308166719017535</li>\n",
       "\t<li>0.0279956542428432</li>\n",
       "\t<li>0.02767094223441</li>\n",
       "\t<li>0.0247342481835602</li>\n",
       "\t<li>0.0238701648799721</li>\n",
       "\t<li>0.0217907302816068</li>\n",
       "\t<li>0.0213108378916881</li>\n",
       "\t<li>0.0192839827359195</li>\n",
       "\t<li>0.0186205643525818</li>\n",
       "\t<li>0.0173327216894376</li>\n",
       "\t<li>0.0163808712859274</li>\n",
       "\t<li>0.0150424179272427</li>\n",
       "\t<li>0.0147575571095382</li>\n",
       "\t<li>0.0130472466827854</li>\n",
       "\t<li>0.012038260394915</li>\n",
       "\t<li>0.0115221204871724</li>\n",
       "\t<li>0.0110326643359129</li>\n",
       "\t<li>0.0102666229509055</li>\n",
       "\t<li>0.00932812699182411</li>\n",
       "\t<li>0.00907392172858775</li>\n",
       "\t<li>0.00869824951450154</li>\n",
       "\t<li>0.00805077139439395</li>\n",
       "\t<li>0.00734563046334151</li>\n",
       "\t<li>0.00663152457220292</li>\n",
       "\t<li>0.00609713061202495</li>\n",
       "\t<li>0.00587401788867891</li>\n",
       "\t<li>0.00549861212609673</li>\n",
       "\t<li>0.00508175472742823</li>\n",
       "\t<li>0.00468580477298417</li>\n",
       "\t<li>0.00434796269371465</li>\n",
       "\t<li>0.00429032017899004</li>\n",
       "\t<li>0.00411920118379735</li>\n",
       "\t<li>0.00375374581557801</li>\n",
       "\t<li>0.00321654867588973</li>\n",
       "\t<li>0.00284613046711423</li>\n",
       "\t<li>0.00252060460727528</li>\n",
       "\t<li>0.00223302812261362</li>\n",
       "\t<li>0.00159458301607329</li>\n",
       "\t<li>0.00118642926146686</li>\n",
       "\t<li>0.000910710854076942</li>\n",
       "\t<li>0.000844946070047402</li>\n",
       "\t<li>3.1943076604877e-32</li>\n",
       "\t<li>2.40708712096236e-33</li>\n",
       "\t<li>2.08468404630495e-33</li>\n",
       "\t<li>1.13249718949511e-33</li>\n",
       "\t<li>9.89343900294532e-34</li>\n",
       "\t<li>9.10577194396536e-34</li>\n",
       "\t<li>6.11078520834379e-34</li>\n",
       "\t<li>6.11078520834379e-34</li>\n",
       "\t<li>6.11078520834379e-34</li>\n",
       "\t<li>6.11078520834379e-34</li>\n",
       "\t<li>6.11078520834379e-34</li>\n",
       "\t<li>1.94397118368239e-34</li>\n",
       "\t<li>1.31692651965475e-34</li>\n",
       "</ol>\n"
      ],
      "text/latex": [
       "\\begin{enumerate*}\n",
       "\\item 0.149730944157874\n",
       "\\item 0.123636588967734\n",
       "\\item 0.0865736367434875\n",
       "\\item 0.074309827697869\n",
       "\\item 0.0465452393801124\n",
       "\\item 0.0396904247725725\n",
       "\\item 0.0337693029734763\n",
       "\\item 0.0308166719017535\n",
       "\\item 0.0279956542428432\n",
       "\\item 0.02767094223441\n",
       "\\item 0.0247342481835602\n",
       "\\item 0.0238701648799721\n",
       "\\item 0.0217907302816068\n",
       "\\item 0.0213108378916881\n",
       "\\item 0.0192839827359195\n",
       "\\item 0.0186205643525818\n",
       "\\item 0.0173327216894376\n",
       "\\item 0.0163808712859274\n",
       "\\item 0.0150424179272427\n",
       "\\item 0.0147575571095382\n",
       "\\item 0.0130472466827854\n",
       "\\item 0.012038260394915\n",
       "\\item 0.0115221204871724\n",
       "\\item 0.0110326643359129\n",
       "\\item 0.0102666229509055\n",
       "\\item 0.00932812699182411\n",
       "\\item 0.00907392172858775\n",
       "\\item 0.00869824951450154\n",
       "\\item 0.00805077139439395\n",
       "\\item 0.00734563046334151\n",
       "\\item 0.00663152457220292\n",
       "\\item 0.00609713061202495\n",
       "\\item 0.00587401788867891\n",
       "\\item 0.00549861212609673\n",
       "\\item 0.00508175472742823\n",
       "\\item 0.00468580477298417\n",
       "\\item 0.00434796269371465\n",
       "\\item 0.00429032017899004\n",
       "\\item 0.00411920118379735\n",
       "\\item 0.00375374581557801\n",
       "\\item 0.00321654867588973\n",
       "\\item 0.00284613046711423\n",
       "\\item 0.00252060460727528\n",
       "\\item 0.00223302812261362\n",
       "\\item 0.00159458301607329\n",
       "\\item 0.00118642926146686\n",
       "\\item 0.000910710854076942\n",
       "\\item 0.000844946070047402\n",
       "\\item 3.1943076604877e-32\n",
       "\\item 2.40708712096236e-33\n",
       "\\item 2.08468404630495e-33\n",
       "\\item 1.13249718949511e-33\n",
       "\\item 9.89343900294532e-34\n",
       "\\item 9.10577194396536e-34\n",
       "\\item 6.11078520834379e-34\n",
       "\\item 6.11078520834379e-34\n",
       "\\item 6.11078520834379e-34\n",
       "\\item 6.11078520834379e-34\n",
       "\\item 6.11078520834379e-34\n",
       "\\item 1.94397118368239e-34\n",
       "\\item 1.31692651965475e-34\n",
       "\\end{enumerate*}\n"
      ],
      "text/markdown": [
       "1. 0.149730944157874\n",
       "2. 0.123636588967734\n",
       "3. 0.0865736367434875\n",
       "4. 0.074309827697869\n",
       "5. 0.0465452393801124\n",
       "6. 0.0396904247725725\n",
       "7. 0.0337693029734763\n",
       "8. 0.0308166719017535\n",
       "9. 0.0279956542428432\n",
       "10. 0.02767094223441\n",
       "11. 0.0247342481835602\n",
       "12. 0.0238701648799721\n",
       "13. 0.0217907302816068\n",
       "14. 0.0213108378916881\n",
       "15. 0.0192839827359195\n",
       "16. 0.0186205643525818\n",
       "17. 0.0173327216894376\n",
       "18. 0.0163808712859274\n",
       "19. 0.0150424179272427\n",
       "20. 0.0147575571095382\n",
       "21. 0.0130472466827854\n",
       "22. 0.012038260394915\n",
       "23. 0.0115221204871724\n",
       "24. 0.0110326643359129\n",
       "25. 0.0102666229509055\n",
       "26. 0.00932812699182411\n",
       "27. 0.00907392172858775\n",
       "28. 0.00869824951450154\n",
       "29. 0.00805077139439395\n",
       "30. 0.00734563046334151\n",
       "31. 0.00663152457220292\n",
       "32. 0.00609713061202495\n",
       "33. 0.00587401788867891\n",
       "34. 0.00549861212609673\n",
       "35. 0.00508175472742823\n",
       "36. 0.00468580477298417\n",
       "37. 0.00434796269371465\n",
       "38. 0.00429032017899004\n",
       "39. 0.00411920118379735\n",
       "40. 0.00375374581557801\n",
       "41. 0.00321654867588973\n",
       "42. 0.00284613046711423\n",
       "43. 0.00252060460727528\n",
       "44. 0.00223302812261362\n",
       "45. 0.00159458301607329\n",
       "46. 0.00118642926146686\n",
       "47. 0.000910710854076942\n",
       "48. 0.000844946070047402\n",
       "49. 3.1943076604877e-32\n",
       "50. 2.40708712096236e-33\n",
       "51. 2.08468404630495e-33\n",
       "52. 1.13249718949511e-33\n",
       "53. 9.89343900294532e-34\n",
       "54. 9.10577194396536e-34\n",
       "55. 6.11078520834379e-34\n",
       "56. 6.11078520834379e-34\n",
       "57. 6.11078520834379e-34\n",
       "58. 6.11078520834379e-34\n",
       "59. 6.11078520834379e-34\n",
       "60. 1.94397118368239e-34\n",
       "61. 1.31692651965475e-34\n",
       "\n",
       "\n"
      ],
      "text/plain": [
       " [1] 1.497309e-01 1.236366e-01 8.657364e-02 7.430983e-02 4.654524e-02\n",
       " [6] 3.969042e-02 3.376930e-02 3.081667e-02 2.799565e-02 2.767094e-02\n",
       "[11] 2.473425e-02 2.387016e-02 2.179073e-02 2.131084e-02 1.928398e-02\n",
       "[16] 1.862056e-02 1.733272e-02 1.638087e-02 1.504242e-02 1.475756e-02\n",
       "[21] 1.304725e-02 1.203826e-02 1.152212e-02 1.103266e-02 1.026662e-02\n",
       "[26] 9.328127e-03 9.073922e-03 8.698250e-03 8.050771e-03 7.345630e-03\n",
       "[31] 6.631525e-03 6.097131e-03 5.874018e-03 5.498612e-03 5.081755e-03\n",
       "[36] 4.685805e-03 4.347963e-03 4.290320e-03 4.119201e-03 3.753746e-03\n",
       "[41] 3.216549e-03 2.846130e-03 2.520605e-03 2.233028e-03 1.594583e-03\n",
       "[46] 1.186429e-03 9.107109e-04 8.449461e-04 3.194308e-32 2.407087e-33\n",
       "[51] 2.084684e-33 1.132497e-33 9.893439e-34 9.105772e-34 6.110785e-34\n",
       "[56] 6.110785e-34 6.110785e-34 6.110785e-34 6.110785e-34 1.943971e-34\n",
       "[61] 1.316927e-34"
      ]
     },
     "metadata": {},
     "output_type": "display_data"
    },
    {
     "data": {
      "text/html": [
       "1"
      ],
      "text/latex": [
       "1"
      ],
      "text/markdown": [
       "1"
      ],
      "text/plain": [
       "[1] 1"
      ]
     },
     "metadata": {},
     "output_type": "display_data"
    }
   ],
   "source": [
    "var_exp = pca_credit$sdev**2/sum(pca_credit$sdev**2)\n",
    "var_exp\n",
    "sum(var_exp)"
   ]
  },
  {
   "cell_type": "markdown",
   "metadata": {},
   "source": [
    "These numbers are a bit abstract. However, you can see that the variance ratios are in descending order and that the sum is 1.0. \n",
    "\n",
    "Execute the code in the cell below to create a plot of the explained variance vs. the component:  "
   ]
  },
  {
   "cell_type": "code",
   "execution_count": 15,
   "metadata": {
    "scrolled": false
   },
   "outputs": [
    {
     "data": {},
     "metadata": {},
     "output_type": "display_data"
    },
    {
     "data": {
      "image/png": "[encoded data removed]",
      "text/plain": [
       "plot without title"
      ]
     },
     "metadata": {},
     "output_type": "display_data"
    }
   ],
   "source": [
    "plot_scree = function(pca_mod){\n",
    "    ## Plot as variance explained\n",
    "    df = data.frame(x = 1:length(var_exp), y = var_exp)\n",
    "    ggplot(df, aes(x,y)) + geom_line(size = 1, color = 'blue') +\n",
    "    xlab('Component number') + ylab('Variance explained') +\n",
    "    ggtitle('Scree plot of variance explained vs. \\n Principal Component')\n",
    "}\n",
    "\n",
    "plot_scree(pca_credit)"
   ]
  },
  {
   "cell_type": "markdown",
   "metadata": {},
   "source": [
    "This curve is often referred to as a **scree plot**. Notice that the explained variance decreases rapidly until the 10th component and then slowly, thereafter. The first few components explain a large fraction of the variance and therefore contain much of the explanatory information in the data. The components with small explained variance are unlikely to contain much explanatory information. Often the inflection point or 'knee' in the scree curve is used to choose the number of components selected. "
   ]
  },
  {
   "cell_type": "markdown",
   "metadata": {},
   "source": [
    "Now it is time to create a PCA model with a reduced number of components. The code in the cell below trains and fits a PCA model with 10 components, and then transforms the features using that model. Execute this code. "
   ]
  },
  {
   "cell_type": "code",
   "execution_count": 16,
   "metadata": {},
   "outputs": [
    {
     "name": "stderr",
     "output_type": "stream",
     "text": [
      "Warning message:\n",
      "\"In prcomp.default(training, rank = 10) :\n",
      " extra argument 'rank' will be disregarded\""
     ]
    },
    {
     "data": {
      "text/html": [
       "<ol class=list-inline>\n",
       "\t<li>61</li>\n",
       "\t<li>61</li>\n",
       "</ol>\n"
      ],
      "text/latex": [
       "\\begin{enumerate*}\n",
       "\\item 61\n",
       "\\item 61\n",
       "\\end{enumerate*}\n"
      ],
      "text/markdown": [
       "1. 61\n",
       "2. 61\n",
       "\n",
       "\n"
      ],
      "text/plain": [
       "[1] 61 61"
      ]
     },
     "metadata": {},
     "output_type": "display_data"
    },
    {
     "data": {
      "text/html": [
       "<dl class=dl-horizontal>\n",
       "\t<dt>checking_account_status.&lt; 0 DM</dt>\n",
       "\t\t<dd>0.00418242624022571</dd>\n",
       "\t<dt>checking_account_status.&gt; 200 DM or salary assignment</dt>\n",
       "\t\t<dd>-0.0170404247032728</dd>\n",
       "\t<dt>checking_account_status.0 - 200 DM</dt>\n",
       "\t\t<dd>0.0130986240491562</dd>\n",
       "\t<dt>checking_account_status.none</dt>\n",
       "\t\t<dd>-0.000240625586109156</dd>\n",
       "\t<dt>loan_duration_mo</dt>\n",
       "\t\t<dd>0.591263628398861</dd>\n",
       "\t<dt>credit_history.all loans at bank paid</dt>\n",
       "\t\t<dd>0.00474814027210446</dd>\n",
       "\t<dt>credit_history.critical account - other non-bank loans</dt>\n",
       "\t\t<dd>0.0233886633082943</dd>\n",
       "\t<dt>credit_history.current loans paid</dt>\n",
       "\t\t<dd>-0.0757636814177663</dd>\n",
       "\t<dt>credit_history.no credit - paid</dt>\n",
       "\t\t<dd>0.0182902559909015</dd>\n",
       "\t<dt>credit_history.past payment delays</dt>\n",
       "\t\t<dd>0.0293366218464661</dd>\n",
       "</dl>\n"
      ],
      "text/latex": [
       "\\begin{description*}\n",
       "\\item[checking\\textbackslash{}\\_account\\textbackslash{}\\_status.< 0 DM] 0.00418242624022571\n",
       "\\item[checking\\textbackslash{}\\_account\\textbackslash{}\\_status.> 200 DM or salary assignment] -0.0170404247032728\n",
       "\\item[checking\\textbackslash{}\\_account\\textbackslash{}\\_status.0 - 200 DM] 0.0130986240491562\n",
       "\\item[checking\\textbackslash{}\\_account\\textbackslash{}\\_status.none] -0.000240625586109156\n",
       "\\item[loan\\textbackslash{}\\_duration\\textbackslash{}\\_mo] 0.591263628398861\n",
       "\\item[credit\\textbackslash{}\\_history.all loans at bank paid] 0.00474814027210446\n",
       "\\item[credit\\textbackslash{}\\_history.critical account - other non-bank loans] 0.0233886633082943\n",
       "\\item[credit\\textbackslash{}\\_history.current loans paid] -0.0757636814177663\n",
       "\\item[credit\\textbackslash{}\\_history.no credit - paid] 0.0182902559909015\n",
       "\\item[credit\\textbackslash{}\\_history.past payment delays] 0.0293366218464661\n",
       "\\end{description*}\n"
      ],
      "text/markdown": [
       "checking_account_status.&amp;lt; 0 DM\n",
       ":   0.00418242624022571checking_account_status.&amp;gt; 200 DM or salary assignment\n",
       ":   -0.0170404247032728checking_account_status.0 - 200 DM\n",
       ":   0.0130986240491562checking_account_status.none\n",
       ":   -0.000240625586109156loan_duration_mo\n",
       ":   0.591263628398861credit_history.all loans at bank paid\n",
       ":   0.00474814027210446credit_history.critical account - other non-bank loans\n",
       ":   0.0233886633082943credit_history.current loans paid\n",
       ":   -0.0757636814177663credit_history.no credit - paid\n",
       ":   0.0182902559909015credit_history.past payment delays\n",
       ":   0.0293366218464661\n",
       "\n"
      ],
      "text/plain": [
       "                        checking_account_status.< 0 DM \n",
       "                                          0.0041824262 \n",
       " checking_account_status.> 200 DM or salary assignment \n",
       "                                         -0.0170404247 \n",
       "                    checking_account_status.0 - 200 DM \n",
       "                                          0.0130986240 \n",
       "                          checking_account_status.none \n",
       "                                         -0.0002406256 \n",
       "                                      loan_duration_mo \n",
       "                                          0.5912636284 \n",
       "                 credit_history.all loans at bank paid \n",
       "                                          0.0047481403 \n",
       "credit_history.critical account - other non-bank loans \n",
       "                                          0.0233886633 \n",
       "                     credit_history.current loans paid \n",
       "                                         -0.0757636814 \n",
       "                       credit_history.no credit - paid \n",
       "                                          0.0182902560 \n",
       "                    credit_history.past payment delays \n",
       "                                          0.0293366218 "
      ]
     },
     "metadata": {},
     "output_type": "display_data"
    }
   ],
   "source": [
    "## Compute first 10 PCA components \n",
    "pca_credit_10 = prcomp(training, rank = 10)\n",
    "\n",
    "## Scale the eigenvalues\n",
    "var_exp_10 = pca_credit_10$sdev**2/sum(pca_credit_10$sdev**2)\n",
    "Nrow = nrow(pca_credit_10$rotation)\n",
    "Ncol = ncol(pca_credit_10$rotation)\n",
    "scaled_pca_10 = data.frame(matrix(rep(0, Nrow * Ncol), nrow = Nrow, ncol = Ncol))\n",
    "\n",
    "## Scale the rotations\n",
    "for(i in 1:Nrow){\n",
    "    scaled_pca_10[i,] = pca_credit_10$rotation[i,] * var_exp_10[1:Ncol]\n",
    "}\n",
    "\n",
    "## Print the dimensions of the scalled rotations and the first component\n",
    "dim(scaled_pca_10)\n",
    "pca_credit_10$rotation[1:10,1]"
   ]
  },
  {
   "cell_type": "markdown",
   "metadata": {},
   "source": [
    "The scaled rotation matrix has dimensions of 61 rows and 10 columns. You can see the first 10 elements of the first rotation. Multiplying these numbers by the features rotate each row (case) to the new coordinate system."
   ]
  },
  {
   "cell_type": "markdown",
   "metadata": {},
   "source": [
    "## Compute and evaluate a logistic regression model\n",
    "\n",
    "Next, you will compute and evaluate a logistic regression model using the features transformed by the first 10 principal components. The code in the cell below performs the matrix multiplication between the features and on the "
   ]
  },
  {
   "cell_type": "code",
   "execution_count": 17,
   "metadata": {},
   "outputs": [
    {
     "data": {
      "text/html": [
       "<ol class=list-inline>\n",
       "\t<li>700</li>\n",
       "\t<li>61</li>\n",
       "</ol>\n"
      ],
      "text/latex": [
       "\\begin{enumerate*}\n",
       "\\item 700\n",
       "\\item 61\n",
       "\\end{enumerate*}\n"
      ],
      "text/markdown": [
       "1. 700\n",
       "2. 61\n",
       "\n",
       "\n"
      ],
      "text/plain": [
       "[1] 700  61"
      ]
     },
     "metadata": {},
     "output_type": "display_data"
    }
   ],
   "source": [
    "training_10 = training %*% as.matrix(scaled_pca_10)\n",
    "dim(training_10)"
   ]
  },
  {
   "cell_type": "markdown",
   "metadata": {},
   "source": [
    "There are now 10 transformed features. \n",
    "\n",
    "Now you will now construct and evaluate a logistic regression model by executing the code below:"
   ]
  },
  {
   "cell_type": "code",
   "execution_count": 18,
   "metadata": {},
   "outputs": [
    {
     "data": {
      "text/html": [
       "<dl class=dl-horizontal>\n",
       "\t<dt>(Intercept)</dt>\n",
       "\t\t<dd>1.63246994242404</dd>\n",
       "\t<dt>X1</dt>\n",
       "\t\t<dd>-2.06599174666822</dd>\n",
       "\t<dt>X2</dt>\n",
       "\t\t<dd>-2.70312431204796</dd>\n",
       "\t<dt>X3</dt>\n",
       "\t\t<dd>-4.58110395930424</dd>\n",
       "\t<dt>X4</dt>\n",
       "\t\t<dd>6.50744833839239</dd>\n",
       "\t<dt>X5</dt>\n",
       "\t\t<dd>12.16186770534</dd>\n",
       "\t<dt>X6</dt>\n",
       "\t\t<dd>-24.1136809722411</dd>\n",
       "\t<dt>X7</dt>\n",
       "\t\t<dd>26.9863920079104</dd>\n",
       "\t<dt>X8</dt>\n",
       "\t\t<dd>9.81670671702304</dd>\n",
       "\t<dt>X9</dt>\n",
       "\t\t<dd>-1.66255383944179</dd>\n",
       "\t<dt>X10</dt>\n",
       "\t\t<dd>-14.4728464165616</dd>\n",
       "\t<dt>X11</dt>\n",
       "\t\t<dd>25.6719956756843</dd>\n",
       "\t<dt>X12</dt>\n",
       "\t\t<dd>21.0768348509067</dd>\n",
       "\t<dt>X13</dt>\n",
       "\t\t<dd>24.2732738807952</dd>\n",
       "\t<dt>X14</dt>\n",
       "\t\t<dd>-11.5897984788212</dd>\n",
       "\t<dt>X15</dt>\n",
       "\t\t<dd>0.156223143229566</dd>\n",
       "\t<dt>X16</dt>\n",
       "\t\t<dd>-5.4541500689974</dd>\n",
       "\t<dt>X17</dt>\n",
       "\t\t<dd>-23.5935517532286</dd>\n",
       "\t<dt>X18</dt>\n",
       "\t\t<dd>1.00475917002997</dd>\n",
       "\t<dt>X19</dt>\n",
       "\t\t<dd>-0.350583683968702</dd>\n",
       "\t<dt>X20</dt>\n",
       "\t\t<dd>-30.8402050927164</dd>\n",
       "\t<dt>X21</dt>\n",
       "\t\t<dd>38.1167065729071</dd>\n",
       "\t<dt>X22</dt>\n",
       "\t\t<dd>-7.56157638156674</dd>\n",
       "\t<dt>X23</dt>\n",
       "\t\t<dd>2.92836558502648</dd>\n",
       "\t<dt>X24</dt>\n",
       "\t\t<dd>-17.82331668797</dd>\n",
       "\t<dt>X25</dt>\n",
       "\t\t<dd>10.5407172720413</dd>\n",
       "\t<dt>X26</dt>\n",
       "\t\t<dd>44.2227815217356</dd>\n",
       "\t<dt>X27</dt>\n",
       "\t\t<dd>-7.87263214624975</dd>\n",
       "\t<dt>X28</dt>\n",
       "\t\t<dd>30.0615594941916</dd>\n",
       "\t<dt>X29</dt>\n",
       "\t\t<dd>45.5329259424589</dd>\n",
       "\t<dt>X30</dt>\n",
       "\t\t<dd>86.9515279987292</dd>\n",
       "\t<dt>X31</dt>\n",
       "\t\t<dd>70.5349649233861</dd>\n",
       "\t<dt>X32</dt>\n",
       "\t\t<dd>-144.20614723255</dd>\n",
       "\t<dt>X33</dt>\n",
       "\t\t<dd>13.555136851971</dd>\n",
       "\t<dt>X34</dt>\n",
       "\t\t<dd>100.719068908128</dd>\n",
       "\t<dt>X35</dt>\n",
       "\t\t<dd>117.166068708167</dd>\n",
       "\t<dt>X36</dt>\n",
       "\t\t<dd>27.1015228050831</dd>\n",
       "\t<dt>X37</dt>\n",
       "\t\t<dd>-56.4379277233208</dd>\n",
       "\t<dt>X38</dt>\n",
       "\t\t<dd>184.558874875038</dd>\n",
       "\t<dt>X39</dt>\n",
       "\t\t<dd>57.9523095773846</dd>\n",
       "\t<dt>X40</dt>\n",
       "\t\t<dd>146.642478528018</dd>\n",
       "\t<dt>X41</dt>\n",
       "\t\t<dd>-240.700000195277</dd>\n",
       "\t<dt>X42</dt>\n",
       "\t\t<dd>-105.556915583442</dd>\n",
       "\t<dt>X43</dt>\n",
       "\t\t<dd>-27.0799740874605</dd>\n",
       "\t<dt>X44</dt>\n",
       "\t\t<dd>264.569988887443</dd>\n",
       "\t<dt>X45</dt>\n",
       "\t\t<dd>-267.195630656035</dd>\n",
       "\t<dt>X46</dt>\n",
       "\t\t<dd>1026.04146424159</dd>\n",
       "\t<dt>X47</dt>\n",
       "\t\t<dd>1267.28653194179</dd>\n",
       "\t<dt>X48</dt>\n",
       "\t\t<dd>-1008.52410555434</dd>\n",
       "\t<dt>X49</dt>\n",
       "\t\t<dd>NA</dd>\n",
       "\t<dt>X50</dt>\n",
       "\t\t<dd>NA</dd>\n",
       "\t<dt>X51</dt>\n",
       "\t\t<dd>NA</dd>\n",
       "\t<dt>X52</dt>\n",
       "\t\t<dd>NA</dd>\n",
       "\t<dt>X53</dt>\n",
       "\t\t<dd>NA</dd>\n",
       "\t<dt>X54</dt>\n",
       "\t\t<dd>NA</dd>\n",
       "\t<dt>X55</dt>\n",
       "\t\t<dd>NA</dd>\n",
       "\t<dt>X56</dt>\n",
       "\t\t<dd>NA</dd>\n",
       "\t<dt>X57</dt>\n",
       "\t\t<dd>NA</dd>\n",
       "\t<dt>X58</dt>\n",
       "\t\t<dd>NA</dd>\n",
       "\t<dt>X59</dt>\n",
       "\t\t<dd>NA</dd>\n",
       "\t<dt>X60</dt>\n",
       "\t\t<dd>NA</dd>\n",
       "\t<dt>X61</dt>\n",
       "\t\t<dd>NA</dd>\n",
       "</dl>\n"
      ],
      "text/latex": [
       "\\begin{description*}\n",
       "\\item[(Intercept)] 1.63246994242404\n",
       "\\item[X1] -2.06599174666822\n",
       "\\item[X2] -2.70312431204796\n",
       "\\item[X3] -4.58110395930424\n",
       "\\item[X4] 6.50744833839239\n",
       "\\item[X5] 12.16186770534\n",
       "\\item[X6] -24.1136809722411\n",
       "\\item[X7] 26.9863920079104\n",
       "\\item[X8] 9.81670671702304\n",
       "\\item[X9] -1.66255383944179\n",
       "\\item[X10] -14.4728464165616\n",
       "\\item[X11] 25.6719956756843\n",
       "\\item[X12] 21.0768348509067\n",
       "\\item[X13] 24.2732738807952\n",
       "\\item[X14] -11.5897984788212\n",
       "\\item[X15] 0.156223143229566\n",
       "\\item[X16] -5.4541500689974\n",
       "\\item[X17] -23.5935517532286\n",
       "\\item[X18] 1.00475917002997\n",
       "\\item[X19] -0.350583683968702\n",
       "\\item[X20] -30.8402050927164\n",
       "\\item[X21] 38.1167065729071\n",
       "\\item[X22] -7.56157638156674\n",
       "\\item[X23] 2.92836558502648\n",
       "\\item[X24] -17.82331668797\n",
       "\\item[X25] 10.5407172720413\n",
       "\\item[X26] 44.2227815217356\n",
       "\\item[X27] -7.87263214624975\n",
       "\\item[X28] 30.0615594941916\n",
       "\\item[X29] 45.5329259424589\n",
       "\\item[X30] 86.9515279987292\n",
       "\\item[X31] 70.5349649233861\n",
       "\\item[X32] -144.20614723255\n",
       "\\item[X33] 13.555136851971\n",
       "\\item[X34] 100.719068908128\n",
       "\\item[X35] 117.166068708167\n",
       "\\item[X36] 27.1015228050831\n",
       "\\item[X37] -56.4379277233208\n",
       "\\item[X38] 184.558874875038\n",
       "\\item[X39] 57.9523095773846\n",
       "\\item[X40] 146.642478528018\n",
       "\\item[X41] -240.700000195277\n",
       "\\item[X42] -105.556915583442\n",
       "\\item[X43] -27.0799740874605\n",
       "\\item[X44] 264.569988887443\n",
       "\\item[X45] -267.195630656035\n",
       "\\item[X46] 1026.04146424159\n",
       "\\item[X47] 1267.28653194179\n",
       "\\item[X48] -1008.52410555434\n",
       "\\item[X49] NA\n",
       "\\item[X50] NA\n",
       "\\item[X51] NA\n",
       "\\item[X52] NA\n",
       "\\item[X53] NA\n",
       "\\item[X54] NA\n",
       "\\item[X55] NA\n",
       "\\item[X56] NA\n",
       "\\item[X57] NA\n",
       "\\item[X58] NA\n",
       "\\item[X59] NA\n",
       "\\item[X60] NA\n",
       "\\item[X61] NA\n",
       "\\end{description*}\n"
      ],
      "text/markdown": [
       "(Intercept)\n",
       ":   1.63246994242404X1\n",
       ":   -2.06599174666822X2\n",
       ":   -2.70312431204796X3\n",
       ":   -4.58110395930424X4\n",
       ":   6.50744833839239X5\n",
       ":   12.16186770534X6\n",
       ":   -24.1136809722411X7\n",
       ":   26.9863920079104X8\n",
       ":   9.81670671702304X9\n",
       ":   -1.66255383944179X10\n",
       ":   -14.4728464165616X11\n",
       ":   25.6719956756843X12\n",
       ":   21.0768348509067X13\n",
       ":   24.2732738807952X14\n",
       ":   -11.5897984788212X15\n",
       ":   0.156223143229566X16\n",
       ":   -5.4541500689974X17\n",
       ":   -23.5935517532286X18\n",
       ":   1.00475917002997X19\n",
       ":   -0.350583683968702X20\n",
       ":   -30.8402050927164X21\n",
       ":   38.1167065729071X22\n",
       ":   -7.56157638156674X23\n",
       ":   2.92836558502648X24\n",
       ":   -17.82331668797X25\n",
       ":   10.5407172720413X26\n",
       ":   44.2227815217356X27\n",
       ":   -7.87263214624975X28\n",
       ":   30.0615594941916X29\n",
       ":   45.5329259424589X30\n",
       ":   86.9515279987292X31\n",
       ":   70.5349649233861X32\n",
       ":   -144.20614723255X33\n",
       ":   13.555136851971X34\n",
       ":   100.719068908128X35\n",
       ":   117.166068708167X36\n",
       ":   27.1015228050831X37\n",
       ":   -56.4379277233208X38\n",
       ":   184.558874875038X39\n",
       ":   57.9523095773846X40\n",
       ":   146.642478528018X41\n",
       ":   -240.700000195277X42\n",
       ":   -105.556915583442X43\n",
       ":   -27.0799740874605X44\n",
       ":   264.569988887443X45\n",
       ":   -267.195630656035X46\n",
       ":   1026.04146424159X47\n",
       ":   1267.28653194179X48\n",
       ":   -1008.52410555434X49\n",
       ":   NAX50\n",
       ":   NAX51\n",
       ":   NAX52\n",
       ":   NAX53\n",
       ":   NAX54\n",
       ":   NAX55\n",
       ":   NAX56\n",
       ":   NAX57\n",
       ":   NAX58\n",
       ":   NAX59\n",
       ":   NAX60\n",
       ":   NAX61\n",
       ":   NA\n",
       "\n"
      ],
      "text/plain": [
       "  (Intercept)            X1            X2            X3            X4 \n",
       "    1.6324699    -2.0659917    -2.7031243    -4.5811040     6.5074483 \n",
       "           X5            X6            X7            X8            X9 \n",
       "   12.1618677   -24.1136810    26.9863920     9.8167067    -1.6625538 \n",
       "          X10           X11           X12           X13           X14 \n",
       "  -14.4728464    25.6719957    21.0768349    24.2732739   -11.5897985 \n",
       "          X15           X16           X17           X18           X19 \n",
       "    0.1562231    -5.4541501   -23.5935518     1.0047592    -0.3505837 \n",
       "          X20           X21           X22           X23           X24 \n",
       "  -30.8402051    38.1167066    -7.5615764     2.9283656   -17.8233167 \n",
       "          X25           X26           X27           X28           X29 \n",
       "   10.5407173    44.2227815    -7.8726321    30.0615595    45.5329259 \n",
       "          X30           X31           X32           X33           X34 \n",
       "   86.9515280    70.5349649  -144.2061472    13.5551369   100.7190689 \n",
       "          X35           X36           X37           X38           X39 \n",
       "  117.1660687    27.1015228   -56.4379277   184.5588749    57.9523096 \n",
       "          X40           X41           X42           X43           X44 \n",
       "  146.6424785  -240.7000002  -105.5569156   -27.0799741   264.5699889 \n",
       "          X45           X46           X47           X48           X49 \n",
       " -267.1956307  1026.0414642  1267.2865319 -1008.5241056            NA \n",
       "          X50           X51           X52           X53           X54 \n",
       "           NA            NA            NA            NA            NA \n",
       "          X55           X56           X57           X58           X59 \n",
       "           NA            NA            NA            NA            NA \n",
       "          X60           X61 \n",
       "           NA            NA "
      ]
     },
     "metadata": {},
     "output_type": "display_data"
    }
   ],
   "source": [
    "## Construct a data frame with the transformed features and label\n",
    "training_10 = data.frame(training_10)\n",
    "training_10[,'bad_credit'] = training_label\n",
    "\n",
    "## Create a weight vector for the training cases.\n",
    "weights = ifelse(training_10$bad_credit == 'bad', 0.66, 0.34)\n",
    "\n",
    "## Define and fit the logistic regression model\n",
    "set.seed(5566)\n",
    "logistic_mod_10 = glm(bad_credit ~ ., data = training_10, \n",
    "                      weights = weights, family = quasibinomial)\n",
    "logistic_mod_10$coefficients"
   ]
  },
  {
   "cell_type": "markdown",
   "metadata": {},
   "source": [
    "Notice that there are now 10 regression coefficients, one for each component plus an intercept. This number is in contrast to the 61 features in the dummy variable array. \n",
    "\n",
    "In order to test the model, the test feature array must also be transformed. Execute the code in the cell below to apply the PCA transformation to the test features:"
   ]
  },
  {
   "cell_type": "code",
   "execution_count": 19,
   "metadata": {
    "scrolled": true
   },
   "outputs": [
    {
     "data": {
      "text/html": [
       "<ol class=list-inline>\n",
       "\t<li>300</li>\n",
       "\t<li>62</li>\n",
       "</ol>\n"
      ],
      "text/latex": [
       "\\begin{enumerate*}\n",
       "\\item 300\n",
       "\\item 62\n",
       "\\end{enumerate*}\n"
      ],
      "text/markdown": [
       "1. 300\n",
       "2. 62\n",
       "\n",
       "\n"
      ],
      "text/plain": [
       "[1] 300  62"
      ]
     },
     "metadata": {},
     "output_type": "display_data"
    }
   ],
   "source": [
    "test_10 = test %*% as.matrix(scaled_pca_10)\n",
    "test_10 = data.frame(test_10)\n",
    "test_10[,'bad_credit'] = test_label\n",
    "dim(test_10)"
   ]
  },
  {
   "cell_type": "markdown",
   "metadata": {},
   "source": [
    "Execute the code in the cell below to score the model using the test data:"
   ]
  },
  {
   "cell_type": "code",
   "execution_count": 20,
   "metadata": {},
   "outputs": [
    {
     "name": "stderr",
     "output_type": "stream",
     "text": [
      "Warning message in predict.lm(object, newdata, se.fit, scale = 1, type = ifelse(type == :\n",
      "\"prediction from a rank-deficient fit may be misleading\""
     ]
    },
    {
     "data": {
      "text/html": [
       "<table>\n",
       "<thead><tr><th></th><th scope=col>bad_credit</th><th scope=col>probs</th><th scope=col>score</th></tr></thead>\n",
       "<tbody>\n",
       "\t<tr><th scope=row>2</th><td>bad      </td><td>0.2558205</td><td>bad      </td></tr>\n",
       "\t<tr><th scope=row>6</th><td>good     </td><td>0.6838830</td><td>good     </td></tr>\n",
       "\t<tr><th scope=row>17</th><td>good     </td><td>0.9438269</td><td>good     </td></tr>\n",
       "\t<tr><th scope=row>21</th><td>good     </td><td>0.8328900</td><td>good     </td></tr>\n",
       "\t<tr><th scope=row>24</th><td>good     </td><td>0.8836840</td><td>good     </td></tr>\n",
       "\t<tr><th scope=row>27</th><td>good     </td><td>0.7313613</td><td>good     </td></tr>\n",
       "\t<tr><th scope=row>28</th><td>good     </td><td>0.6787652</td><td>good     </td></tr>\n",
       "\t<tr><th scope=row>30</th><td>bad      </td><td>0.2475953</td><td>bad      </td></tr>\n",
       "\t<tr><th scope=row>32</th><td>good     </td><td>0.2717953</td><td>bad      </td></tr>\n",
       "\t<tr><th scope=row>33</th><td>good     </td><td>0.5048484</td><td>good     </td></tr>\n",
       "</tbody>\n",
       "</table>\n"
      ],
      "text/latex": [
       "\\begin{tabular}{r|lll}\n",
       "  & bad\\_credit & probs & score\\\\\n",
       "\\hline\n",
       "\t2 & bad       & 0.2558205 & bad      \\\\\n",
       "\t6 & good      & 0.6838830 & good     \\\\\n",
       "\t17 & good      & 0.9438269 & good     \\\\\n",
       "\t21 & good      & 0.8328900 & good     \\\\\n",
       "\t24 & good      & 0.8836840 & good     \\\\\n",
       "\t27 & good      & 0.7313613 & good     \\\\\n",
       "\t28 & good      & 0.6787652 & good     \\\\\n",
       "\t30 & bad       & 0.2475953 & bad      \\\\\n",
       "\t32 & good      & 0.2717953 & bad      \\\\\n",
       "\t33 & good      & 0.5048484 & good     \\\\\n",
       "\\end{tabular}\n"
      ],
      "text/markdown": [
       "\n",
       "| <!--/--> | bad_credit | probs | score | \n",
       "|---|---|---|---|---|---|---|---|---|---|\n",
       "| 2 | bad       | 0.2558205 | bad       | \n",
       "| 6 | good      | 0.6838830 | good      | \n",
       "| 17 | good      | 0.9438269 | good      | \n",
       "| 21 | good      | 0.8328900 | good      | \n",
       "| 24 | good      | 0.8836840 | good      | \n",
       "| 27 | good      | 0.7313613 | good      | \n",
       "| 28 | good      | 0.6787652 | good      | \n",
       "| 30 | bad       | 0.2475953 | bad       | \n",
       "| 32 | good      | 0.2717953 | bad       | \n",
       "| 33 | good      | 0.5048484 | good      | \n",
       "\n",
       "\n"
      ],
      "text/plain": [
       "   bad_credit probs     score\n",
       "2  bad        0.2558205 bad  \n",
       "6  good       0.6838830 good \n",
       "17 good       0.9438269 good \n",
       "21 good       0.8328900 good \n",
       "24 good       0.8836840 good \n",
       "27 good       0.7313613 good \n",
       "28 good       0.6787652 good \n",
       "30 bad        0.2475953 bad  \n",
       "32 good       0.2717953 bad  \n",
       "33 good       0.5048484 good "
      ]
     },
     "metadata": {},
     "output_type": "display_data"
    }
   ],
   "source": [
    "score_model = function(df, threshold){\n",
    "    df$score = ifelse(df$probs < threshold, 'bad', 'good')\n",
    "    df\n",
    "}\n",
    "\n",
    "test_10$probs = predict(logistic_mod_10, newdata = test_10, type = 'response')\n",
    "test_10 = score_model(test_10, 0.5)\n",
    "test_10[1:10, c('bad_credit','probs', 'score')]"
   ]
  },
  {
   "cell_type": "markdown",
   "metadata": {},
   "source": [
    "Execute the code in the cell below to evaluate the 10 PCA component logistic regression model.\n",
    "\n",
    "Then, answer **Question 1** on the course page."
   ]
  },
  {
   "cell_type": "code",
   "execution_count": 21,
   "metadata": {},
   "outputs": [
    {
     "name": "stdout",
     "output_type": "stream",
     "text": [
      "                Negative Positive\n",
      "Actual Negative      171       39\n",
      "Actual Positive       28       62\n",
      "\n",
      "accuracy  = 0.777 \n",
      "precision = 0.614 \n",
      "recall    = 0.689 \n",
      "F1        = 0.649 \n",
      "AUC       = 0.823 \n"
     ]
    },
    {
     "data": {
      "image/png": "[encoded data removed]",
      "text/plain": [
       "plot without title"
      ]
     },
     "metadata": {},
     "output_type": "display_data"
    }
   ],
   "source": [
    "logistic.eval <- function(df){ \n",
    "  # First step is to find the TP, FP, TN, FN cases\n",
    "  df$conf = ifelse(df$bad_credit == 'bad' & df$score == 'bad', 'TP',\n",
    "                    ifelse(df$bad_credit == 'bad' & df$score == 'good', 'FN',\n",
    "                           ifelse(df$bad_credit == 'good' & df$score == 'good', 'TN', 'FP')))\n",
    "\n",
    "  # Elements of the confusion matrix\n",
    "  TP = length(df[df$conf == 'TP', 'conf'])\n",
    "  FP = length(df[df$conf == 'FP', 'conf'])\n",
    "  TN = length(df[df$conf == 'TN', 'conf'])\n",
    "  FN = length(df[df$conf == 'FN', 'conf'])\n",
    "  \n",
    "  ## Confusion matrix as data frame\n",
    "  out = data.frame(Negative = c(TN, FN), Positive = c(FP, TP))\n",
    "  row.names(out) = c('Actual Negative', 'Actual Positive')\n",
    "  print(out)  \n",
    "  \n",
    "  # Compute and print metrics\n",
    "  P = TP/(TP + FP)\n",
    "  R = TP/(TP + FN)  \n",
    "  F1 = 2*P*R/(P+R)  \n",
    "  cat('\\n')\n",
    "  cat(paste('accuracy  =', as.character(round((TP + TN)/(TP + TN + FP + FN), 3)), '\\n'))      \n",
    "  cat(paste('precision =', as.character(round(P, 3)), '\\n'))     \n",
    "  cat(paste('recall    =', as.character(round(R, 3)), '\\n'))\n",
    "  cat(paste('F1        =', as.character(round(F1,3)),'\\n'))\n",
    "    \n",
    "  roc_obj <- roc(df$bad_credit, df$probs)\n",
    "  cat(paste('AUC       =', as.character(round(auc(roc_obj),3)),'\\n'))\n",
    "}\n",
    "\n",
    "ROC_AUC = function(df){\n",
    "    options(repr.plot.width=5, repr.plot.height=5)\n",
    "    pred_obj = prediction(df$probs, df$bad_credit)\n",
    "    perf_obj <- performance(pred_obj, measure = \"tpr\", x.measure = \"fpr\")\n",
    "    AUC = performance(pred_obj,\"auc\")@y.values[[1]] # Access the AUC from the slot of the S4 object\n",
    "    plot(perf_obj)\n",
    "    abline(a=0, b= 1, col = 'red')\n",
    "    text(0.8, 0.2, paste('AUC = ', as.character(round(AUC, 3))))\n",
    "}\n",
    "\n",
    "logistic.eval(test_10)\n",
    "ROC_AUC(test_10)"
   ]
  },
  {
   "cell_type": "markdown",
   "metadata": {},
   "source": [
    "These results are reasonably good. Recall, accuracy and AUC have reasonable values, however precision and F1 are low. Is it possible that more PCA components are required to achieve a good model? "
   ]
  },
  {
   "cell_type": "markdown",
   "metadata": {},
   "source": [
    "## Add more components to the model\n",
    "\n",
    "Now you will compute and evaluate a logistic regression model using the first 20 principal components. You will compare this model to the one created with 10 principal components. \n",
    "\n",
    "Execute the code below to transform the training features using the first 20 principal components. "
   ]
  },
  {
   "cell_type": "code",
   "execution_count": 22,
   "metadata": {},
   "outputs": [
    {
     "name": "stderr",
     "output_type": "stream",
     "text": [
      "Warning message:\n",
      "\"In prcomp.default(training, rank = 20) :\n",
      " extra argument 'rank' will be disregarded\""
     ]
    },
    {
     "data": {
      "text/html": [
       "<ol class=list-inline>\n",
       "\t<li>61</li>\n",
       "\t<li>61</li>\n",
       "</ol>\n"
      ],
      "text/latex": [
       "\\begin{enumerate*}\n",
       "\\item 61\n",
       "\\item 61\n",
       "\\end{enumerate*}\n"
      ],
      "text/markdown": [
       "1. 61\n",
       "2. 61\n",
       "\n",
       "\n"
      ],
      "text/plain": [
       "[1] 61 61"
      ]
     },
     "metadata": {},
     "output_type": "display_data"
    }
   ],
   "source": [
    "## Compute first 10 PCA components \n",
    "pca_credit_20 = prcomp(training, rank = 20)\n",
    "\n",
    "## Scale the eigenvalues\n",
    "var_exp_20 = pca_credit_20$sdev**2/sum(pca_credit_20$sdev**2)\n",
    "Nrow = nrow(pca_credit_20$rotation)\n",
    "Ncol = ncol(pca_credit_20$rotation)\n",
    "scaled_pca_20 = data.frame(matrix(rep(0, Nrow * Ncol), nrow = Nrow, ncol = Ncol))\n",
    "\n",
    "## Scale the rotations\n",
    "for(i in 1:Nrow){\n",
    "    scaled_pca_20[i,] = pca_credit_20$rotation[i,] * var_exp_20[1:Ncol]\n",
    "}\n",
    "\n",
    "## Print the dimensions of the scalled rotations and the first component\n",
    "dim(scaled_pca_20)"
   ]
  },
  {
   "cell_type": "markdown",
   "metadata": {},
   "source": [
    "There are now 20 components in the PCA model. \n",
    "\n",
    "The code in the cell below computes the transformed feature set and creates a logistic regression model from this feature set. Execute this code."
   ]
  },
  {
   "cell_type": "code",
   "execution_count": 23,
   "metadata": {},
   "outputs": [
    {
     "data": {
      "text/html": [
       "<dl class=dl-horizontal>\n",
       "\t<dt>(Intercept)</dt>\n",
       "\t\t<dd>1.63246994242404</dd>\n",
       "\t<dt>X1</dt>\n",
       "\t\t<dd>-2.06599174666822</dd>\n",
       "\t<dt>X2</dt>\n",
       "\t\t<dd>-2.70312431204796</dd>\n",
       "\t<dt>X3</dt>\n",
       "\t\t<dd>-4.58110395930424</dd>\n",
       "\t<dt>X4</dt>\n",
       "\t\t<dd>6.50744833839239</dd>\n",
       "\t<dt>X5</dt>\n",
       "\t\t<dd>12.16186770534</dd>\n",
       "\t<dt>X6</dt>\n",
       "\t\t<dd>-24.1136809722411</dd>\n",
       "\t<dt>X7</dt>\n",
       "\t\t<dd>26.9863920079104</dd>\n",
       "\t<dt>X8</dt>\n",
       "\t\t<dd>9.81670671702304</dd>\n",
       "\t<dt>X9</dt>\n",
       "\t\t<dd>-1.66255383944179</dd>\n",
       "\t<dt>X10</dt>\n",
       "\t\t<dd>-14.4728464165616</dd>\n",
       "\t<dt>X11</dt>\n",
       "\t\t<dd>25.6719956756843</dd>\n",
       "\t<dt>X12</dt>\n",
       "\t\t<dd>21.0768348509067</dd>\n",
       "\t<dt>X13</dt>\n",
       "\t\t<dd>24.2732738807952</dd>\n",
       "\t<dt>X14</dt>\n",
       "\t\t<dd>-11.5897984788212</dd>\n",
       "\t<dt>X15</dt>\n",
       "\t\t<dd>0.156223143229566</dd>\n",
       "\t<dt>X16</dt>\n",
       "\t\t<dd>-5.4541500689974</dd>\n",
       "\t<dt>X17</dt>\n",
       "\t\t<dd>-23.5935517532286</dd>\n",
       "\t<dt>X18</dt>\n",
       "\t\t<dd>1.00475917002997</dd>\n",
       "\t<dt>X19</dt>\n",
       "\t\t<dd>-0.350583683968702</dd>\n",
       "\t<dt>X20</dt>\n",
       "\t\t<dd>-30.8402050927164</dd>\n",
       "\t<dt>X21</dt>\n",
       "\t\t<dd>38.1167065729071</dd>\n",
       "\t<dt>X22</dt>\n",
       "\t\t<dd>-7.56157638156674</dd>\n",
       "\t<dt>X23</dt>\n",
       "\t\t<dd>2.92836558502648</dd>\n",
       "\t<dt>X24</dt>\n",
       "\t\t<dd>-17.82331668797</dd>\n",
       "\t<dt>X25</dt>\n",
       "\t\t<dd>10.5407172720413</dd>\n",
       "\t<dt>X26</dt>\n",
       "\t\t<dd>44.2227815217356</dd>\n",
       "\t<dt>X27</dt>\n",
       "\t\t<dd>-7.87263214624975</dd>\n",
       "\t<dt>X28</dt>\n",
       "\t\t<dd>30.0615594941916</dd>\n",
       "\t<dt>X29</dt>\n",
       "\t\t<dd>45.5329259424589</dd>\n",
       "\t<dt>X30</dt>\n",
       "\t\t<dd>86.9515279987292</dd>\n",
       "\t<dt>X31</dt>\n",
       "\t\t<dd>70.5349649233861</dd>\n",
       "\t<dt>X32</dt>\n",
       "\t\t<dd>-144.20614723255</dd>\n",
       "\t<dt>X33</dt>\n",
       "\t\t<dd>13.555136851971</dd>\n",
       "\t<dt>X34</dt>\n",
       "\t\t<dd>100.719068908128</dd>\n",
       "\t<dt>X35</dt>\n",
       "\t\t<dd>117.166068708167</dd>\n",
       "\t<dt>X36</dt>\n",
       "\t\t<dd>27.1015228050831</dd>\n",
       "\t<dt>X37</dt>\n",
       "\t\t<dd>-56.4379277233208</dd>\n",
       "\t<dt>X38</dt>\n",
       "\t\t<dd>184.558874875038</dd>\n",
       "\t<dt>X39</dt>\n",
       "\t\t<dd>57.9523095773846</dd>\n",
       "\t<dt>X40</dt>\n",
       "\t\t<dd>146.642478528018</dd>\n",
       "\t<dt>X41</dt>\n",
       "\t\t<dd>-240.700000195277</dd>\n",
       "\t<dt>X42</dt>\n",
       "\t\t<dd>-105.556915583442</dd>\n",
       "\t<dt>X43</dt>\n",
       "\t\t<dd>-27.0799740874605</dd>\n",
       "\t<dt>X44</dt>\n",
       "\t\t<dd>264.569988887443</dd>\n",
       "\t<dt>X45</dt>\n",
       "\t\t<dd>-267.195630656035</dd>\n",
       "\t<dt>X46</dt>\n",
       "\t\t<dd>1026.04146424159</dd>\n",
       "\t<dt>X47</dt>\n",
       "\t\t<dd>1267.28653194179</dd>\n",
       "\t<dt>X48</dt>\n",
       "\t\t<dd>-1008.52410555434</dd>\n",
       "\t<dt>X49</dt>\n",
       "\t\t<dd>NA</dd>\n",
       "\t<dt>X50</dt>\n",
       "\t\t<dd>NA</dd>\n",
       "\t<dt>X51</dt>\n",
       "\t\t<dd>NA</dd>\n",
       "\t<dt>X52</dt>\n",
       "\t\t<dd>NA</dd>\n",
       "\t<dt>X53</dt>\n",
       "\t\t<dd>NA</dd>\n",
       "\t<dt>X54</dt>\n",
       "\t\t<dd>NA</dd>\n",
       "\t<dt>X55</dt>\n",
       "\t\t<dd>NA</dd>\n",
       "\t<dt>X56</dt>\n",
       "\t\t<dd>NA</dd>\n",
       "\t<dt>X57</dt>\n",
       "\t\t<dd>NA</dd>\n",
       "\t<dt>X58</dt>\n",
       "\t\t<dd>NA</dd>\n",
       "\t<dt>X59</dt>\n",
       "\t\t<dd>NA</dd>\n",
       "\t<dt>X60</dt>\n",
       "\t\t<dd>NA</dd>\n",
       "\t<dt>X61</dt>\n",
       "\t\t<dd>NA</dd>\n",
       "</dl>\n"
      ],
      "text/latex": [
       "\\begin{description*}\n",
       "\\item[(Intercept)] 1.63246994242404\n",
       "\\item[X1] -2.06599174666822\n",
       "\\item[X2] -2.70312431204796\n",
       "\\item[X3] -4.58110395930424\n",
       "\\item[X4] 6.50744833839239\n",
       "\\item[X5] 12.16186770534\n",
       "\\item[X6] -24.1136809722411\n",
       "\\item[X7] 26.9863920079104\n",
       "\\item[X8] 9.81670671702304\n",
       "\\item[X9] -1.66255383944179\n",
       "\\item[X10] -14.4728464165616\n",
       "\\item[X11] 25.6719956756843\n",
       "\\item[X12] 21.0768348509067\n",
       "\\item[X13] 24.2732738807952\n",
       "\\item[X14] -11.5897984788212\n",
       "\\item[X15] 0.156223143229566\n",
       "\\item[X16] -5.4541500689974\n",
       "\\item[X17] -23.5935517532286\n",
       "\\item[X18] 1.00475917002997\n",
       "\\item[X19] -0.350583683968702\n",
       "\\item[X20] -30.8402050927164\n",
       "\\item[X21] 38.1167065729071\n",
       "\\item[X22] -7.56157638156674\n",
       "\\item[X23] 2.92836558502648\n",
       "\\item[X24] -17.82331668797\n",
       "\\item[X25] 10.5407172720413\n",
       "\\item[X26] 44.2227815217356\n",
       "\\item[X27] -7.87263214624975\n",
       "\\item[X28] 30.0615594941916\n",
       "\\item[X29] 45.5329259424589\n",
       "\\item[X30] 86.9515279987292\n",
       "\\item[X31] 70.5349649233861\n",
       "\\item[X32] -144.20614723255\n",
       "\\item[X33] 13.555136851971\n",
       "\\item[X34] 100.719068908128\n",
       "\\item[X35] 117.166068708167\n",
       "\\item[X36] 27.1015228050831\n",
       "\\item[X37] -56.4379277233208\n",
       "\\item[X38] 184.558874875038\n",
       "\\item[X39] 57.9523095773846\n",
       "\\item[X40] 146.642478528018\n",
       "\\item[X41] -240.700000195277\n",
       "\\item[X42] -105.556915583442\n",
       "\\item[X43] -27.0799740874605\n",
       "\\item[X44] 264.569988887443\n",
       "\\item[X45] -267.195630656035\n",
       "\\item[X46] 1026.04146424159\n",
       "\\item[X47] 1267.28653194179\n",
       "\\item[X48] -1008.52410555434\n",
       "\\item[X49] NA\n",
       "\\item[X50] NA\n",
       "\\item[X51] NA\n",
       "\\item[X52] NA\n",
       "\\item[X53] NA\n",
       "\\item[X54] NA\n",
       "\\item[X55] NA\n",
       "\\item[X56] NA\n",
       "\\item[X57] NA\n",
       "\\item[X58] NA\n",
       "\\item[X59] NA\n",
       "\\item[X60] NA\n",
       "\\item[X61] NA\n",
       "\\end{description*}\n"
      ],
      "text/markdown": [
       "(Intercept)\n",
       ":   1.63246994242404X1\n",
       ":   -2.06599174666822X2\n",
       ":   -2.70312431204796X3\n",
       ":   -4.58110395930424X4\n",
       ":   6.50744833839239X5\n",
       ":   12.16186770534X6\n",
       ":   -24.1136809722411X7\n",
       ":   26.9863920079104X8\n",
       ":   9.81670671702304X9\n",
       ":   -1.66255383944179X10\n",
       ":   -14.4728464165616X11\n",
       ":   25.6719956756843X12\n",
       ":   21.0768348509067X13\n",
       ":   24.2732738807952X14\n",
       ":   -11.5897984788212X15\n",
       ":   0.156223143229566X16\n",
       ":   -5.4541500689974X17\n",
       ":   -23.5935517532286X18\n",
       ":   1.00475917002997X19\n",
       ":   -0.350583683968702X20\n",
       ":   -30.8402050927164X21\n",
       ":   38.1167065729071X22\n",
       ":   -7.56157638156674X23\n",
       ":   2.92836558502648X24\n",
       ":   -17.82331668797X25\n",
       ":   10.5407172720413X26\n",
       ":   44.2227815217356X27\n",
       ":   -7.87263214624975X28\n",
       ":   30.0615594941916X29\n",
       ":   45.5329259424589X30\n",
       ":   86.9515279987292X31\n",
       ":   70.5349649233861X32\n",
       ":   -144.20614723255X33\n",
       ":   13.555136851971X34\n",
       ":   100.719068908128X35\n",
       ":   117.166068708167X36\n",
       ":   27.1015228050831X37\n",
       ":   -56.4379277233208X38\n",
       ":   184.558874875038X39\n",
       ":   57.9523095773846X40\n",
       ":   146.642478528018X41\n",
       ":   -240.700000195277X42\n",
       ":   -105.556915583442X43\n",
       ":   -27.0799740874605X44\n",
       ":   264.569988887443X45\n",
       ":   -267.195630656035X46\n",
       ":   1026.04146424159X47\n",
       ":   1267.28653194179X48\n",
       ":   -1008.52410555434X49\n",
       ":   NAX50\n",
       ":   NAX51\n",
       ":   NAX52\n",
       ":   NAX53\n",
       ":   NAX54\n",
       ":   NAX55\n",
       ":   NAX56\n",
       ":   NAX57\n",
       ":   NAX58\n",
       ":   NAX59\n",
       ":   NAX60\n",
       ":   NAX61\n",
       ":   NA\n",
       "\n"
      ],
      "text/plain": [
       "  (Intercept)            X1            X2            X3            X4 \n",
       "    1.6324699    -2.0659917    -2.7031243    -4.5811040     6.5074483 \n",
       "           X5            X6            X7            X8            X9 \n",
       "   12.1618677   -24.1136810    26.9863920     9.8167067    -1.6625538 \n",
       "          X10           X11           X12           X13           X14 \n",
       "  -14.4728464    25.6719957    21.0768349    24.2732739   -11.5897985 \n",
       "          X15           X16           X17           X18           X19 \n",
       "    0.1562231    -5.4541501   -23.5935518     1.0047592    -0.3505837 \n",
       "          X20           X21           X22           X23           X24 \n",
       "  -30.8402051    38.1167066    -7.5615764     2.9283656   -17.8233167 \n",
       "          X25           X26           X27           X28           X29 \n",
       "   10.5407173    44.2227815    -7.8726321    30.0615595    45.5329259 \n",
       "          X30           X31           X32           X33           X34 \n",
       "   86.9515280    70.5349649  -144.2061472    13.5551369   100.7190689 \n",
       "          X35           X36           X37           X38           X39 \n",
       "  117.1660687    27.1015228   -56.4379277   184.5588749    57.9523096 \n",
       "          X40           X41           X42           X43           X44 \n",
       "  146.6424785  -240.7000002  -105.5569156   -27.0799741   264.5699889 \n",
       "          X45           X46           X47           X48           X49 \n",
       " -267.1956307  1026.0414642  1267.2865319 -1008.5241056            NA \n",
       "          X50           X51           X52           X53           X54 \n",
       "           NA            NA            NA            NA            NA \n",
       "          X55           X56           X57           X58           X59 \n",
       "           NA            NA            NA            NA            NA \n",
       "          X60           X61 \n",
       "           NA            NA "
      ]
     },
     "metadata": {},
     "output_type": "display_data"
    }
   ],
   "source": [
    "## Construct a data frame with the transformed features and label\n",
    "training_20 = training %*% as.matrix(scaled_pca_20)\n",
    "training_20 = data.frame(training_20)\n",
    "training_20[,'bad_credit'] = training_label\n",
    "\n",
    "weights = ifelse(training_20$bad_credit == 'bad', 0.66, 0.34)\n",
    "\n",
    "## Define and fit the logistic regression model\n",
    "set.seed(5566)\n",
    "logistic_mod_20 = glm(bad_credit ~ ., data = training_20, \n",
    "                      weights = weights, family = quasibinomial)\n",
    "logistic_mod_20$coefficients"
   ]
  },
  {
   "cell_type": "markdown",
   "metadata": {},
   "source": [
    "The code in the cell below scores the logistic regression model and displays performance metrics, the ROC curve, and the AUC. Execute this code and examine the result. "
   ]
  },
  {
   "cell_type": "code",
   "execution_count": 24,
   "metadata": {},
   "outputs": [
    {
     "name": "stderr",
     "output_type": "stream",
     "text": [
      "Warning message in predict.lm(object, newdata, se.fit, scale = 1, type = ifelse(type == :\n",
      "\"prediction from a rank-deficient fit may be misleading\""
     ]
    },
    {
     "name": "stdout",
     "output_type": "stream",
     "text": [
      "                Negative Positive\n",
      "Actual Negative      171       39\n",
      "Actual Positive       28       62\n",
      "\n",
      "accuracy  = 0.777 \n",
      "precision = 0.614 \n",
      "recall    = 0.689 \n",
      "F1        = 0.649 \n",
      "AUC       = 0.823 \n"
     ]
    },
    {
     "data": {
      "image/png": "[encoded data removed]",
      "text/plain": [
       "plot without title"
      ]
     },
     "metadata": {},
     "output_type": "display_data"
    }
   ],
   "source": [
    "## Create the transformed test dataset\n",
    "test_20 = test %*% as.matrix(scaled_pca_20)\n",
    "test_20 = data.frame(test_20)\n",
    "test_20[,'bad_credit'] = test_label\n",
    "\n",
    "## Score the model\n",
    "test_20$probs = predict(logistic_mod_20, newdata = test_20, type = 'response')\n",
    "test_20 = score_model(test_20, 0.5)\n",
    "\n",
    "## Evaluate the model\n",
    "logistic.eval(test_20)\n",
    "ROC_AUC(test_20)"
   ]
  },
  {
   "cell_type": "markdown",
   "metadata": {},
   "source": [
    "The metrics for the 20 component model are nearly the same as for the 10 component model. It appears that 10 components is enough to represent the information in the feature set. "
   ]
  },
  {
   "cell_type": "markdown",
   "metadata": {},
   "source": [
    "## Summary\n",
    "\n",
    "In this lab you have applied principal component analysis to dimensionality reduction for supervised machine learning. The first components computed contain most of the available information. When faced with large number of features, PCA is an effective way to make supervised machine learning models tractable. \n",
    "\n",
    "Specifically in this lab you have:\n",
    "1. Computed PCA models with different numbers of components.\n",
    "2. Compared logistic regression models with different numbers of components. In this case, using 10 components produced a good model. Extending this to 20 components gained little if anything. In summary the dimensionality of the original 61 dummy variable array to just 10 components. "
   ]
  }
 ],
 "metadata": {
  "kernelspec": {
   "display_name": "R",
   "language": "R",
   "name": "ir"
  },
  "language_info": {
   "codemirror_mode": "r",
   "file_extension": ".r",
   "mimetype": "text/x-r-source",
   "name": "R",
   "pygments_lexer": "r",
   "version": "3.3.3"
  }
 },
 "nbformat": 4,
 "nbformat_minor": 2
}
